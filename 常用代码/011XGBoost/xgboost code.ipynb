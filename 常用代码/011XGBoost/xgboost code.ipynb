{
 "cells": [
  {
   "cell_type": "code",
   "execution_count": 1,
   "metadata": {},
   "outputs": [],
   "source": [
    "from xgboost import XGBRegressor as XGBR\n",
    "from sklearn.ensemble import RandomForestRegressor as RFR\n",
    "from sklearn.linear_model import LinearRegression as LinearR\n",
    "from sklearn.datasets import load_boston\n",
    "from sklearn.model_selection import KFold, cross_val_score as CVS, train_test_split as TTS\n",
    "from sklearn.metrics import mean_squared_error as MSE\n",
    "import pandas as pd\n",
    "import numpy as np\n",
    "import matplotlib.pyplot as plt\n",
    "from time import time\n",
    "import datetime"
   ]
  },
  {
   "cell_type": "code",
   "execution_count": 2,
   "metadata": {},
   "outputs": [],
   "source": [
    "data = load_boston()\n",
    "#波士顿数据集非常简单，但它所涉及到的问题却很多"
   ]
  },
  {
   "cell_type": "code",
   "execution_count": 3,
   "metadata": {},
   "outputs": [
    {
     "data": {
      "text/plain": [
       "{'data': array([[6.3200e-03, 1.8000e+01, 2.3100e+00, ..., 1.5300e+01, 3.9690e+02,\n",
       "         4.9800e+00],\n",
       "        [2.7310e-02, 0.0000e+00, 7.0700e+00, ..., 1.7800e+01, 3.9690e+02,\n",
       "         9.1400e+00],\n",
       "        [2.7290e-02, 0.0000e+00, 7.0700e+00, ..., 1.7800e+01, 3.9283e+02,\n",
       "         4.0300e+00],\n",
       "        ...,\n",
       "        [6.0760e-02, 0.0000e+00, 1.1930e+01, ..., 2.1000e+01, 3.9690e+02,\n",
       "         5.6400e+00],\n",
       "        [1.0959e-01, 0.0000e+00, 1.1930e+01, ..., 2.1000e+01, 3.9345e+02,\n",
       "         6.4800e+00],\n",
       "        [4.7410e-02, 0.0000e+00, 1.1930e+01, ..., 2.1000e+01, 3.9690e+02,\n",
       "         7.8800e+00]]),\n",
       " 'target': array([24. , 21.6, 34.7, 33.4, 36.2, 28.7, 22.9, 27.1, 16.5, 18.9, 15. ,\n",
       "        18.9, 21.7, 20.4, 18.2, 19.9, 23.1, 17.5, 20.2, 18.2, 13.6, 19.6,\n",
       "        15.2, 14.5, 15.6, 13.9, 16.6, 14.8, 18.4, 21. , 12.7, 14.5, 13.2,\n",
       "        13.1, 13.5, 18.9, 20. , 21. , 24.7, 30.8, 34.9, 26.6, 25.3, 24.7,\n",
       "        21.2, 19.3, 20. , 16.6, 14.4, 19.4, 19.7, 20.5, 25. , 23.4, 18.9,\n",
       "        35.4, 24.7, 31.6, 23.3, 19.6, 18.7, 16. , 22.2, 25. , 33. , 23.5,\n",
       "        19.4, 22. , 17.4, 20.9, 24.2, 21.7, 22.8, 23.4, 24.1, 21.4, 20. ,\n",
       "        20.8, 21.2, 20.3, 28. , 23.9, 24.8, 22.9, 23.9, 26.6, 22.5, 22.2,\n",
       "        23.6, 28.7, 22.6, 22. , 22.9, 25. , 20.6, 28.4, 21.4, 38.7, 43.8,\n",
       "        33.2, 27.5, 26.5, 18.6, 19.3, 20.1, 19.5, 19.5, 20.4, 19.8, 19.4,\n",
       "        21.7, 22.8, 18.8, 18.7, 18.5, 18.3, 21.2, 19.2, 20.4, 19.3, 22. ,\n",
       "        20.3, 20.5, 17.3, 18.8, 21.4, 15.7, 16.2, 18. , 14.3, 19.2, 19.6,\n",
       "        23. , 18.4, 15.6, 18.1, 17.4, 17.1, 13.3, 17.8, 14. , 14.4, 13.4,\n",
       "        15.6, 11.8, 13.8, 15.6, 14.6, 17.8, 15.4, 21.5, 19.6, 15.3, 19.4,\n",
       "        17. , 15.6, 13.1, 41.3, 24.3, 23.3, 27. , 50. , 50. , 50. , 22.7,\n",
       "        25. , 50. , 23.8, 23.8, 22.3, 17.4, 19.1, 23.1, 23.6, 22.6, 29.4,\n",
       "        23.2, 24.6, 29.9, 37.2, 39.8, 36.2, 37.9, 32.5, 26.4, 29.6, 50. ,\n",
       "        32. , 29.8, 34.9, 37. , 30.5, 36.4, 31.1, 29.1, 50. , 33.3, 30.3,\n",
       "        34.6, 34.9, 32.9, 24.1, 42.3, 48.5, 50. , 22.6, 24.4, 22.5, 24.4,\n",
       "        20. , 21.7, 19.3, 22.4, 28.1, 23.7, 25. , 23.3, 28.7, 21.5, 23. ,\n",
       "        26.7, 21.7, 27.5, 30.1, 44.8, 50. , 37.6, 31.6, 46.7, 31.5, 24.3,\n",
       "        31.7, 41.7, 48.3, 29. , 24. , 25.1, 31.5, 23.7, 23.3, 22. , 20.1,\n",
       "        22.2, 23.7, 17.6, 18.5, 24.3, 20.5, 24.5, 26.2, 24.4, 24.8, 29.6,\n",
       "        42.8, 21.9, 20.9, 44. , 50. , 36. , 30.1, 33.8, 43.1, 48.8, 31. ,\n",
       "        36.5, 22.8, 30.7, 50. , 43.5, 20.7, 21.1, 25.2, 24.4, 35.2, 32.4,\n",
       "        32. , 33.2, 33.1, 29.1, 35.1, 45.4, 35.4, 46. , 50. , 32.2, 22. ,\n",
       "        20.1, 23.2, 22.3, 24.8, 28.5, 37.3, 27.9, 23.9, 21.7, 28.6, 27.1,\n",
       "        20.3, 22.5, 29. , 24.8, 22. , 26.4, 33.1, 36.1, 28.4, 33.4, 28.2,\n",
       "        22.8, 20.3, 16.1, 22.1, 19.4, 21.6, 23.8, 16.2, 17.8, 19.8, 23.1,\n",
       "        21. , 23.8, 23.1, 20.4, 18.5, 25. , 24.6, 23. , 22.2, 19.3, 22.6,\n",
       "        19.8, 17.1, 19.4, 22.2, 20.7, 21.1, 19.5, 18.5, 20.6, 19. , 18.7,\n",
       "        32.7, 16.5, 23.9, 31.2, 17.5, 17.2, 23.1, 24.5, 26.6, 22.9, 24.1,\n",
       "        18.6, 30.1, 18.2, 20.6, 17.8, 21.7, 22.7, 22.6, 25. , 19.9, 20.8,\n",
       "        16.8, 21.9, 27.5, 21.9, 23.1, 50. , 50. , 50. , 50. , 50. , 13.8,\n",
       "        13.8, 15. , 13.9, 13.3, 13.1, 10.2, 10.4, 10.9, 11.3, 12.3,  8.8,\n",
       "         7.2, 10.5,  7.4, 10.2, 11.5, 15.1, 23.2,  9.7, 13.8, 12.7, 13.1,\n",
       "        12.5,  8.5,  5. ,  6.3,  5.6,  7.2, 12.1,  8.3,  8.5,  5. , 11.9,\n",
       "        27.9, 17.2, 27.5, 15. , 17.2, 17.9, 16.3,  7. ,  7.2,  7.5, 10.4,\n",
       "         8.8,  8.4, 16.7, 14.2, 20.8, 13.4, 11.7,  8.3, 10.2, 10.9, 11. ,\n",
       "         9.5, 14.5, 14.1, 16.1, 14.3, 11.7, 13.4,  9.6,  8.7,  8.4, 12.8,\n",
       "        10.5, 17.1, 18.4, 15.4, 10.8, 11.8, 14.9, 12.6, 14.1, 13. , 13.4,\n",
       "        15.2, 16.1, 17.8, 14.9, 14.1, 12.7, 13.5, 14.9, 20. , 16.4, 17.7,\n",
       "        19.5, 20.2, 21.4, 19.9, 19. , 19.1, 19.1, 20.1, 19.9, 19.6, 23.2,\n",
       "        29.8, 13.8, 13.3, 16.7, 12. , 14.6, 21.4, 23. , 23.7, 25. , 21.8,\n",
       "        20.6, 21.2, 19.1, 20.6, 15.2,  7. ,  8.1, 13.6, 20.1, 21.8, 24.5,\n",
       "        23.1, 19.7, 18.3, 21.2, 17.5, 16.8, 22.4, 20.6, 23.9, 22. , 11.9]),\n",
       " 'feature_names': array(['CRIM', 'ZN', 'INDUS', 'CHAS', 'NOX', 'RM', 'AGE', 'DIS', 'RAD',\n",
       "        'TAX', 'PTRATIO', 'B', 'LSTAT'], dtype='<U7'),\n",
       " 'DESCR': \".. _boston_dataset:\\n\\nBoston house prices dataset\\n---------------------------\\n\\n**Data Set Characteristics:**  \\n\\n    :Number of Instances: 506 \\n\\n    :Number of Attributes: 13 numeric/categorical predictive. Median Value (attribute 14) is usually the target.\\n\\n    :Attribute Information (in order):\\n        - CRIM     per capita crime rate by town\\n        - ZN       proportion of residential land zoned for lots over 25,000 sq.ft.\\n        - INDUS    proportion of non-retail business acres per town\\n        - CHAS     Charles River dummy variable (= 1 if tract bounds river; 0 otherwise)\\n        - NOX      nitric oxides concentration (parts per 10 million)\\n        - RM       average number of rooms per dwelling\\n        - AGE      proportion of owner-occupied units built prior to 1940\\n        - DIS      weighted distances to five Boston employment centres\\n        - RAD      index of accessibility to radial highways\\n        - TAX      full-value property-tax rate per $10,000\\n        - PTRATIO  pupil-teacher ratio by town\\n        - B        1000(Bk - 0.63)^2 where Bk is the proportion of black people by town\\n        - LSTAT    % lower status of the population\\n        - MEDV     Median value of owner-occupied homes in $1000's\\n\\n    :Missing Attribute Values: None\\n\\n    :Creator: Harrison, D. and Rubinfeld, D.L.\\n\\nThis is a copy of UCI ML housing dataset.\\nhttps://archive.ics.uci.edu/ml/machine-learning-databases/housing/\\n\\n\\nThis dataset was taken from the StatLib library which is maintained at Carnegie Mellon University.\\n\\nThe Boston house-price data of Harrison, D. and Rubinfeld, D.L. 'Hedonic\\nprices and the demand for clean air', J. Environ. Economics & Management,\\nvol.5, 81-102, 1978.   Used in Belsley, Kuh & Welsch, 'Regression diagnostics\\n...', Wiley, 1980.   N.B. Various transformations are used in the table on\\npages 244-261 of the latter.\\n\\nThe Boston house-price data has been used in many machine learning papers that address regression\\nproblems.   \\n     \\n.. topic:: References\\n\\n   - Belsley, Kuh & Welsch, 'Regression diagnostics: Identifying Influential Data and Sources of Collinearity', Wiley, 1980. 244-261.\\n   - Quinlan,R. (1993). Combining Instance-Based and Model-Based Learning. In Proceedings on the Tenth International Conference of Machine Learning, 236-243, University of Massachusetts, Amherst. Morgan Kaufmann.\\n\",\n",
       " 'filename': 'D:\\\\anaconda\\\\envs\\\\py36\\\\lib\\\\site-packages\\\\sklearn\\\\datasets\\\\data\\\\boston_house_prices.csv'}"
      ]
     },
     "execution_count": 3,
     "metadata": {},
     "output_type": "execute_result"
    }
   ],
   "source": [
    "data"
   ]
  },
  {
   "cell_type": "code",
   "execution_count": 4,
   "metadata": {},
   "outputs": [],
   "source": [
    "X = data.data\n",
    "y = data.target"
   ]
  },
  {
   "cell_type": "code",
   "execution_count": 5,
   "metadata": {},
   "outputs": [
    {
     "data": {
      "text/plain": [
       "(506, 13)"
      ]
     },
     "execution_count": 5,
     "metadata": {},
     "output_type": "execute_result"
    }
   ],
   "source": [
    "X.shape"
   ]
  },
  {
   "cell_type": "code",
   "execution_count": 6,
   "metadata": {},
   "outputs": [
    {
     "data": {
      "text/plain": [
       "(506,)"
      ]
     },
     "execution_count": 6,
     "metadata": {},
     "output_type": "execute_result"
    }
   ],
   "source": [
    "y.shape"
   ]
  },
  {
   "cell_type": "code",
   "execution_count": 7,
   "metadata": {},
   "outputs": [
    {
     "data": {
      "text/plain": [
       "array([24. , 21.6, 34.7, 33.4, 36.2, 28.7, 22.9, 27.1, 16.5, 18.9, 15. ,\n",
       "       18.9, 21.7, 20.4, 18.2, 19.9, 23.1, 17.5, 20.2, 18.2, 13.6, 19.6,\n",
       "       15.2, 14.5, 15.6, 13.9, 16.6, 14.8, 18.4, 21. , 12.7, 14.5, 13.2,\n",
       "       13.1, 13.5, 18.9, 20. , 21. , 24.7, 30.8, 34.9, 26.6, 25.3, 24.7,\n",
       "       21.2, 19.3, 20. , 16.6, 14.4, 19.4, 19.7, 20.5, 25. , 23.4, 18.9,\n",
       "       35.4, 24.7, 31.6, 23.3, 19.6, 18.7, 16. , 22.2, 25. , 33. , 23.5,\n",
       "       19.4, 22. , 17.4, 20.9, 24.2, 21.7, 22.8, 23.4, 24.1, 21.4, 20. ,\n",
       "       20.8, 21.2, 20.3, 28. , 23.9, 24.8, 22.9, 23.9, 26.6, 22.5, 22.2,\n",
       "       23.6, 28.7, 22.6, 22. , 22.9, 25. , 20.6, 28.4, 21.4, 38.7, 43.8,\n",
       "       33.2, 27.5, 26.5, 18.6, 19.3, 20.1, 19.5, 19.5, 20.4, 19.8, 19.4,\n",
       "       21.7, 22.8, 18.8, 18.7, 18.5, 18.3, 21.2, 19.2, 20.4, 19.3, 22. ,\n",
       "       20.3, 20.5, 17.3, 18.8, 21.4, 15.7, 16.2, 18. , 14.3, 19.2, 19.6,\n",
       "       23. , 18.4, 15.6, 18.1, 17.4, 17.1, 13.3, 17.8, 14. , 14.4, 13.4,\n",
       "       15.6, 11.8, 13.8, 15.6, 14.6, 17.8, 15.4, 21.5, 19.6, 15.3, 19.4,\n",
       "       17. , 15.6, 13.1, 41.3, 24.3, 23.3, 27. , 50. , 50. , 50. , 22.7,\n",
       "       25. , 50. , 23.8, 23.8, 22.3, 17.4, 19.1, 23.1, 23.6, 22.6, 29.4,\n",
       "       23.2, 24.6, 29.9, 37.2, 39.8, 36.2, 37.9, 32.5, 26.4, 29.6, 50. ,\n",
       "       32. , 29.8, 34.9, 37. , 30.5, 36.4, 31.1, 29.1, 50. , 33.3, 30.3,\n",
       "       34.6, 34.9, 32.9, 24.1, 42.3, 48.5, 50. , 22.6, 24.4, 22.5, 24.4,\n",
       "       20. , 21.7, 19.3, 22.4, 28.1, 23.7, 25. , 23.3, 28.7, 21.5, 23. ,\n",
       "       26.7, 21.7, 27.5, 30.1, 44.8, 50. , 37.6, 31.6, 46.7, 31.5, 24.3,\n",
       "       31.7, 41.7, 48.3, 29. , 24. , 25.1, 31.5, 23.7, 23.3, 22. , 20.1,\n",
       "       22.2, 23.7, 17.6, 18.5, 24.3, 20.5, 24.5, 26.2, 24.4, 24.8, 29.6,\n",
       "       42.8, 21.9, 20.9, 44. , 50. , 36. , 30.1, 33.8, 43.1, 48.8, 31. ,\n",
       "       36.5, 22.8, 30.7, 50. , 43.5, 20.7, 21.1, 25.2, 24.4, 35.2, 32.4,\n",
       "       32. , 33.2, 33.1, 29.1, 35.1, 45.4, 35.4, 46. , 50. , 32.2, 22. ,\n",
       "       20.1, 23.2, 22.3, 24.8, 28.5, 37.3, 27.9, 23.9, 21.7, 28.6, 27.1,\n",
       "       20.3, 22.5, 29. , 24.8, 22. , 26.4, 33.1, 36.1, 28.4, 33.4, 28.2,\n",
       "       22.8, 20.3, 16.1, 22.1, 19.4, 21.6, 23.8, 16.2, 17.8, 19.8, 23.1,\n",
       "       21. , 23.8, 23.1, 20.4, 18.5, 25. , 24.6, 23. , 22.2, 19.3, 22.6,\n",
       "       19.8, 17.1, 19.4, 22.2, 20.7, 21.1, 19.5, 18.5, 20.6, 19. , 18.7,\n",
       "       32.7, 16.5, 23.9, 31.2, 17.5, 17.2, 23.1, 24.5, 26.6, 22.9, 24.1,\n",
       "       18.6, 30.1, 18.2, 20.6, 17.8, 21.7, 22.7, 22.6, 25. , 19.9, 20.8,\n",
       "       16.8, 21.9, 27.5, 21.9, 23.1, 50. , 50. , 50. , 50. , 50. , 13.8,\n",
       "       13.8, 15. , 13.9, 13.3, 13.1, 10.2, 10.4, 10.9, 11.3, 12.3,  8.8,\n",
       "        7.2, 10.5,  7.4, 10.2, 11.5, 15.1, 23.2,  9.7, 13.8, 12.7, 13.1,\n",
       "       12.5,  8.5,  5. ,  6.3,  5.6,  7.2, 12.1,  8.3,  8.5,  5. , 11.9,\n",
       "       27.9, 17.2, 27.5, 15. , 17.2, 17.9, 16.3,  7. ,  7.2,  7.5, 10.4,\n",
       "        8.8,  8.4, 16.7, 14.2, 20.8, 13.4, 11.7,  8.3, 10.2, 10.9, 11. ,\n",
       "        9.5, 14.5, 14.1, 16.1, 14.3, 11.7, 13.4,  9.6,  8.7,  8.4, 12.8,\n",
       "       10.5, 17.1, 18.4, 15.4, 10.8, 11.8, 14.9, 12.6, 14.1, 13. , 13.4,\n",
       "       15.2, 16.1, 17.8, 14.9, 14.1, 12.7, 13.5, 14.9, 20. , 16.4, 17.7,\n",
       "       19.5, 20.2, 21.4, 19.9, 19. , 19.1, 19.1, 20.1, 19.9, 19.6, 23.2,\n",
       "       29.8, 13.8, 13.3, 16.7, 12. , 14.6, 21.4, 23. , 23.7, 25. , 21.8,\n",
       "       20.6, 21.2, 19.1, 20.6, 15.2,  7. ,  8.1, 13.6, 20.1, 21.8, 24.5,\n",
       "       23.1, 19.7, 18.3, 21.2, 17.5, 16.8, 22.4, 20.6, 23.9, 22. , 11.9])"
      ]
     },
     "execution_count": 7,
     "metadata": {},
     "output_type": "execute_result"
    }
   ],
   "source": [
    "y"
   ]
  },
  {
   "cell_type": "code",
   "execution_count": 8,
   "metadata": {},
   "outputs": [],
   "source": [
    "Xtrain,Xtest,Ytrain,Ytest = TTS(X,y,test_size=0.3,random_state=420)"
   ]
  },
  {
   "cell_type": "code",
   "execution_count": 9,
   "metadata": {},
   "outputs": [],
   "source": [
    "reg = XGBR(n_estimators=100).fit(Xtrain,Ytrain) #训练"
   ]
  },
  {
   "cell_type": "code",
   "execution_count": 10,
   "metadata": {},
   "outputs": [
    {
     "data": {
      "text/plain": [
       "array([ 6.6689262, 22.34918  , 31.052807 , 13.911595 ,  9.467966 ,\n",
       "       22.658588 , 14.514282 , 15.092699 , 15.293644 , 12.680115 ,\n",
       "       24.140797 , 35.890083 , 21.573483 , 27.07066  , 19.052658 ,\n",
       "        9.89033  , 23.386076 , 23.588493 , 23.311466 , 22.401644 ,\n",
       "       18.98444  , 15.766946 , 25.8352   , 20.193802 , 19.982517 ,\n",
       "       15.611423 , 22.883228 , 29.838228 , 22.815304 , 16.779037 ,\n",
       "       37.13194  , 20.133305 , 19.67352  , 23.525528 , 22.845137 ,\n",
       "       23.87397  , 15.17887  , 23.45934  , 16.685331 , 31.761686 ,\n",
       "       18.525843 , 22.441063 , 38.48728  , 17.93719  , 15.10122  ,\n",
       "       28.980541 , 46.363487 , 12.842797 ,  9.618281 , 35.40579  ,\n",
       "       25.657566 , 20.605602 , 20.800055 , 49.228447 , 31.355848 ,\n",
       "       29.382515 , 18.911947 , 21.049877 , 16.165182 , 18.098577 ,\n",
       "       14.659002 , 21.720213 , 19.413454 , 28.932102 , 30.573524 ,\n",
       "       19.228426 , 20.531511 , 15.666289 , 23.52929  , 19.30554  ,\n",
       "       28.384985 , 42.83562  , 29.429724 , 23.306015 , 19.741224 ,\n",
       "       24.202463 , 38.735516 , 26.782232 , 22.168324 , 20.67139  ,\n",
       "       19.534992 , 47.360317 , 24.008802 ,  8.184814 , 25.613977 ,\n",
       "       20.691843 , 17.127483 , 21.10027  , 22.279167 ,  7.755469 ,\n",
       "       20.0476   , 15.406112 , 42.38165  , 33.828186 , 22.788246 ,\n",
       "        9.302419 , 10.416187 , 20.033014 ,  8.241165 , 12.816478 ,\n",
       "       30.793974 , 10.078776 , 25.383692 , 21.933594 , 30.53568  ,\n",
       "       42.866497 , 19.598145 ,  8.321976 , 23.194368 , 12.547767 ,\n",
       "       46.838867 , 22.961082 , 20.244467 , 23.170694 , 18.948856 ,\n",
       "       29.682056 , 24.363865 , 19.715958 , 44.975193 , 17.64582  ,\n",
       "       24.3169   , 24.946495 , 18.23235  , 16.922577 , 14.77714  ,\n",
       "       21.757038 , 33.83876  , 10.938419 , 20.035763 , 21.085218 ,\n",
       "       19.331562 , 20.505526 ,  8.285518 , 28.01946  , 29.631227 ,\n",
       "       19.908175 , 18.30325  , 14.204149 , 10.795732 , 18.232307 ,\n",
       "       42.266888 , 17.304502 , 22.974121 , 20.946724 , 30.724297 ,\n",
       "       20.072989 , 12.772859 , 41.472908 , 27.652838 , 22.20476  ,\n",
       "       14.235871 , 25.88964  ], dtype=float32)"
      ]
     },
     "execution_count": 10,
     "metadata": {},
     "output_type": "execute_result"
    }
   ],
   "source": [
    "reg.predict(Xtest) #传统接口predict"
   ]
  },
  {
   "cell_type": "code",
   "execution_count": 11,
   "metadata": {},
   "outputs": [
    {
     "data": {
      "text/plain": [
       "0.9050988968414799"
      ]
     },
     "execution_count": 11,
     "metadata": {},
     "output_type": "execute_result"
    }
   ],
   "source": [
    "reg.score(Xtest,Ytest) #你能想出这里应该返回什么模型评估指标么？利用shift+Tab可以知道，R^2评估指标"
   ]
  },
  {
   "cell_type": "code",
   "execution_count": 12,
   "metadata": {},
   "outputs": [
    {
     "data": {
      "text/plain": [
       "22.532806324110677"
      ]
     },
     "execution_count": 12,
     "metadata": {},
     "output_type": "execute_result"
    }
   ],
   "source": [
    "y.mean()"
   ]
  },
  {
   "cell_type": "code",
   "execution_count": 13,
   "metadata": {},
   "outputs": [
    {
     "data": {
      "text/plain": [
       "8.830916343629323"
      ]
     },
     "execution_count": 13,
     "metadata": {},
     "output_type": "execute_result"
    }
   ],
   "source": [
    "MSE(Ytest,reg.predict(Xtest))#可以看出均方误差是平均值y.mean()的1/3左右，结果不算好也不算坏"
   ]
  },
  {
   "cell_type": "code",
   "execution_count": 14,
   "metadata": {},
   "outputs": [
    {
     "data": {
      "text/plain": [
       "array([0.01902167, 0.0042109 , 0.01478317, 0.00553536, 0.02222195,\n",
       "       0.37914094, 0.01679687, 0.04698721, 0.04073574, 0.05491758,\n",
       "       0.0668422 , 0.00869463, 0.32011184], dtype=float32)"
      ]
     },
     "execution_count": 14,
     "metadata": {},
     "output_type": "execute_result"
    }
   ],
   "source": [
    "reg.feature_importances_ \n",
    "#树模型的优势之一：能够查看模型的重要性分数，可以使用嵌入法(SelectFromModel)进行特征选择\n",
    "#xgboost可以使用嵌入法进行特征选择"
   ]
  },
  {
   "cell_type": "code",
   "execution_count": 15,
   "metadata": {},
   "outputs": [],
   "source": [
    "reg = XGBR(n_estimators=100) #交叉验证中导入的没有经过训练的模型"
   ]
  },
  {
   "cell_type": "code",
   "execution_count": 16,
   "metadata": {},
   "outputs": [
    {
     "data": {
      "text/plain": [
       "0.7995062821902295"
      ]
     },
     "execution_count": 16,
     "metadata": {},
     "output_type": "execute_result"
    }
   ],
   "source": [
    "CVS(reg,Xtrain,Ytrain,cv=5).mean()\n",
    "#这里应该返回什么模型评估指标，还记得么？ \n",
    "# 返回的是与reg.score相同的评估指标R^2（回归），准确率（分类）"
   ]
  },
  {
   "cell_type": "code",
   "execution_count": 17,
   "metadata": {},
   "outputs": [],
   "source": [
    "#严谨的交叉验证与不严谨的交叉验证之间的讨论：训练集 or 全数据？"
   ]
  },
  {
   "cell_type": "code",
   "execution_count": 18,
   "metadata": {},
   "outputs": [],
   "source": [
    "#严谨 vs 不严谨"
   ]
  },
  {
   "cell_type": "code",
   "execution_count": 19,
   "metadata": {},
   "outputs": [
    {
     "data": {
      "text/plain": [
       "-16.215644229762717"
      ]
     },
     "execution_count": 19,
     "metadata": {},
     "output_type": "execute_result"
    }
   ],
   "source": [
    "CVS(reg,Xtrain,Ytrain,cv=5,scoring='neg_mean_squared_error').mean()"
   ]
  },
  {
   "cell_type": "code",
   "execution_count": 20,
   "metadata": {},
   "outputs": [
    {
     "data": {
      "text/plain": [
       "['accuracy',\n",
       " 'adjusted_mutual_info_score',\n",
       " 'adjusted_rand_score',\n",
       " 'average_precision',\n",
       " 'balanced_accuracy',\n",
       " 'completeness_score',\n",
       " 'explained_variance',\n",
       " 'f1',\n",
       " 'f1_macro',\n",
       " 'f1_micro',\n",
       " 'f1_samples',\n",
       " 'f1_weighted',\n",
       " 'fowlkes_mallows_score',\n",
       " 'homogeneity_score',\n",
       " 'jaccard',\n",
       " 'jaccard_macro',\n",
       " 'jaccard_micro',\n",
       " 'jaccard_samples',\n",
       " 'jaccard_weighted',\n",
       " 'max_error',\n",
       " 'mutual_info_score',\n",
       " 'neg_brier_score',\n",
       " 'neg_log_loss',\n",
       " 'neg_mean_absolute_error',\n",
       " 'neg_mean_absolute_percentage_error',\n",
       " 'neg_mean_gamma_deviance',\n",
       " 'neg_mean_poisson_deviance',\n",
       " 'neg_mean_squared_error',\n",
       " 'neg_mean_squared_log_error',\n",
       " 'neg_median_absolute_error',\n",
       " 'neg_root_mean_squared_error',\n",
       " 'normalized_mutual_info_score',\n",
       " 'precision',\n",
       " 'precision_macro',\n",
       " 'precision_micro',\n",
       " 'precision_samples',\n",
       " 'precision_weighted',\n",
       " 'r2',\n",
       " 'rand_score',\n",
       " 'recall',\n",
       " 'recall_macro',\n",
       " 'recall_micro',\n",
       " 'recall_samples',\n",
       " 'recall_weighted',\n",
       " 'roc_auc',\n",
       " 'roc_auc_ovo',\n",
       " 'roc_auc_ovo_weighted',\n",
       " 'roc_auc_ovr',\n",
       " 'roc_auc_ovr_weighted',\n",
       " 'top_k_accuracy',\n",
       " 'v_measure_score']"
      ]
     },
     "execution_count": 20,
     "metadata": {},
     "output_type": "execute_result"
    }
   ],
   "source": [
    "#来查看一下sklearn中所有的模型评估指标\n",
    "import sklearn\n",
    "sorted(sklearn.metrics.SCORERS.keys())"
   ]
  },
  {
   "cell_type": "code",
   "execution_count": 21,
   "metadata": {},
   "outputs": [
    {
     "data": {
      "text/plain": [
       "0.78996256134893"
      ]
     },
     "execution_count": 21,
     "metadata": {},
     "output_type": "execute_result"
    }
   ],
   "source": [
    "#使用随机森林和线性回归进行一个对比\n",
    "rfr = RFR(n_estimators=100)\n",
    "CVS(rfr,Xtrain,Ytrain,cv=5).mean()#0.7975497480638329"
   ]
  },
  {
   "cell_type": "code",
   "execution_count": 22,
   "metadata": {},
   "outputs": [
    {
     "data": {
      "text/plain": [
       "-16.143875541851106"
      ]
     },
     "execution_count": 22,
     "metadata": {},
     "output_type": "execute_result"
    }
   ],
   "source": [
    "CVS(rfr,Xtrain,Ytrain,cv=5,scoring='neg_mean_squared_error').mean()#-16.998723616338033"
   ]
  },
  {
   "cell_type": "code",
   "execution_count": 23,
   "metadata": {},
   "outputs": [
    {
     "data": {
      "text/plain": [
       "0.6835070597278079"
      ]
     },
     "execution_count": 23,
     "metadata": {},
     "output_type": "execute_result"
    }
   ],
   "source": [
    "lr = LinearR()\n",
    "CVS(lr,Xtrain,Ytrain,cv=5).mean()#0.6835070597278085"
   ]
  },
  {
   "cell_type": "code",
   "execution_count": 24,
   "metadata": {},
   "outputs": [
    {
     "data": {
      "text/plain": [
       "-25.349507493648463"
      ]
     },
     "execution_count": 24,
     "metadata": {},
     "output_type": "execute_result"
    }
   ],
   "source": [
    "CVS(lr,Xtrain,Ytrain,cv=5,scoring='neg_mean_squared_error').mean()#-25.34950749364844"
   ]
  },
  {
   "cell_type": "code",
   "execution_count": 25,
   "metadata": {},
   "outputs": [
    {
     "name": "stdout",
     "output_type": "stream",
     "text": [
      "[10:51:12] WARNING: ..\\src\\learner.cc:541: \n",
      "Parameters: { silent } might not be used.\n",
      "\n",
      "  This may not be accurate due to some parameters are only used in language bindings but\n",
      "  passed down to XGBoost core.  Or some parameters are not used but slip through this\n",
      "  verification. Please open an issue if you find above cases.\n",
      "\n",
      "\n",
      "[10:51:12] WARNING: ..\\src\\learner.cc:541: \n",
      "Parameters: { silent } might not be used.\n",
      "\n",
      "  This may not be accurate due to some parameters are only used in language bindings but\n",
      "  passed down to XGBoost core.  Or some parameters are not used but slip through this\n",
      "  verification. Please open an issue if you find above cases.\n",
      "\n",
      "\n",
      "[10:51:12] WARNING: ..\\src\\learner.cc:541: \n",
      "Parameters: { silent } might not be used.\n",
      "\n",
      "  This may not be accurate due to some parameters are only used in language bindings but\n",
      "  passed down to XGBoost core.  Or some parameters are not used but slip through this\n",
      "  verification. Please open an issue if you find above cases.\n",
      "\n",
      "\n",
      "[10:51:12] WARNING: ..\\src\\learner.cc:541: \n",
      "Parameters: { silent } might not be used.\n",
      "\n",
      "  This may not be accurate due to some parameters are only used in language bindings but\n",
      "  passed down to XGBoost core.  Or some parameters are not used but slip through this\n",
      "  verification. Please open an issue if you find above cases.\n",
      "\n",
      "\n",
      "[10:51:12] WARNING: ..\\src\\learner.cc:541: \n",
      "Parameters: { silent } might not be used.\n",
      "\n",
      "  This may not be accurate due to some parameters are only used in language bindings but\n",
      "  passed down to XGBoost core.  Or some parameters are not used but slip through this\n",
      "  verification. Please open an issue if you find above cases.\n",
      "\n",
      "\n"
     ]
    },
    {
     "data": {
      "text/plain": [
       "-18.633733952333067"
      ]
     },
     "execution_count": 25,
     "metadata": {},
     "output_type": "execute_result"
    }
   ],
   "source": [
    "#如果开启参数slient：在数据巨大，预料到算法运行会非常缓慢的时候可以使用这个参数来监控模型的训练进度\n",
    "reg = XGBR(n_estimators=10,silent=True)#xgboost库silent=True不会打印训练进程，只返回运行结果，默认是False会打印训练进程\n",
    "#sklearn库中的xgbsoost的默认为silent=True不会打印训练进程，想打印需要手动设置为False\n",
    "CVS(reg,Xtrain,Ytrain,cv=5,scoring='neg_mean_squared_error').mean()#-92.67865836936579"
   ]
  },
  {
   "cell_type": "code",
   "execution_count": 26,
   "metadata": {},
   "outputs": [],
   "source": [
    "def plot_learning_curve(estimator,title, X, y, \n",
    "                        ax=None,    #选择子图\n",
    "                        ylim=None,  #设置纵坐标的取值范围\n",
    "                        cv=None,    #交叉验证\n",
    "                        n_jobs=None #设定索要使用的线程\n",
    "                       ):\n",
    "    \n",
    "    from sklearn.model_selection import learning_curve\n",
    "    import matplotlib.pyplot as plt\n",
    "    import numpy as np\n",
    "    \n",
    "    train_sizes, train_scores, test_scores = learning_curve(estimator, X, y\n",
    "                                                            ,shuffle=True\n",
    "                                                            ,cv=cv\n",
    "                                                            ,random_state=420\n",
    "                                                            ,n_jobs=n_jobs)      \n",
    "    if ax == None:\n",
    "        ax = plt.gca()\n",
    "    else:\n",
    "        ax = plt.figure()\n",
    "    ax.set_title(title)\n",
    "    if ylim is not None:\n",
    "        ax.set_ylim(*ylim)\n",
    "    ax.set_xlabel(\"Training examples\")\n",
    "    ax.set_ylabel(\"Score\")\n",
    "    ax.grid() #绘制网格，不是必须\n",
    "    ax.plot(train_sizes, np.mean(train_scores, axis=1), 'o-'\n",
    "            , color=\"r\",label=\"Training score\")\n",
    "    ax.plot(train_sizes, np.mean(test_scores, axis=1), 'o-'\n",
    "            , color=\"g\",label=\"Test score\")\n",
    "    ax.legend(loc=\"best\")\n",
    "    return ax"
   ]
  },
  {
   "cell_type": "code",
   "execution_count": 27,
   "metadata": {},
   "outputs": [],
   "source": [
    "cv = KFold(n_splits=5, shuffle = True, random_state=42) #交叉验证模式"
   ]
  },
  {
   "cell_type": "code",
   "execution_count": 28,
   "metadata": {},
   "outputs": [
    {
     "data": {
      "image/png": "[encoded data removed]",
      "text/plain": [
       "<Figure size 432x288 with 1 Axes>"
      ]
     },
     "metadata": {
      "needs_background": "light"
     },
     "output_type": "display_data"
    }
   ],
   "source": [
    "plot_learning_curve(XGBR(n_estimators=100,random_state=420)\n",
    "                    ,\"XGB\",Xtrain,Ytrain,ax=None,cv=cv)\n",
    "plt.show()"
   ]
  },
  {
   "cell_type": "code",
   "execution_count": 29,
   "metadata": {},
   "outputs": [
    {
     "name": "stdout",
     "output_type": "stream",
     "text": [
      "160 0.8320776498992342\n"
     ]
    },
    {
     "data": {
      "image/png": "[encoded data removed]",
      "text/plain": [
       "<Figure size 1440x360 with 1 Axes>"
      ]
     },
     "metadata": {
      "needs_background": "light"
     },
     "output_type": "display_data"
    }
   ],
   "source": [
    "#=====【TIME WARNING：25 seconds】=====#\n",
    "\n",
    "axisx = range(10,1010,50)\n",
    "rs = []\n",
    "for i in axisx:\n",
    "    reg = XGBR(n_estimators=i,random_state=420)\n",
    "    rs.append(CVS(reg,Xtrain,Ytrain,cv=cv).mean())\n",
    "print(axisx[rs.index(max(rs))],max(rs))\n",
    "plt.figure(figsize=(20,5))\n",
    "plt.plot(axisx,rs,c=\"red\",label=\"XGB\")\n",
    "plt.legend()\n",
    "plt.show()"
   ]
  },
  {
   "cell_type": "code",
   "execution_count": 30,
   "metadata": {},
   "outputs": [],
   "source": [
    "#选出来的n_estimators非常不寻常，我们是否要选择准确率最高的n_estimators值呢？"
   ]
  },
  {
   "cell_type": "code",
   "execution_count": 31,
   "metadata": {},
   "outputs": [
    {
     "name": "stdout",
     "output_type": "stream",
     "text": [
      "100 0.8320924293483107 0.005344212126112929\n",
      "100 0.8320924293483107 0.005344212126112929\n",
      "100 0.8320924293483107 0.005344212126112929 0.03353716440826495\n"
     ]
    },
    {
     "data": {
      "image/png": "[encoded data removed]",
      "text/plain": [
       "<Figure size 1440x360 with 1 Axes>"
      ]
     },
     "metadata": {
      "needs_background": "light"
     },
     "output_type": "display_data"
    }
   ],
   "source": [
    "#======【TIME WARNING: 20s】=======#\n",
    "axisx = range(50,1050,50)\n",
    "rs = []\n",
    "var = []\n",
    "ge = []\n",
    "for i in axisx:\n",
    "    reg = XGBR(n_estimators=i,random_state=420)\n",
    "    cvresult = CVS(reg,Xtrain,Ytrain,cv=cv)\n",
    "    #记录1-偏差\n",
    "    rs.append(cvresult.mean())\n",
    "    #记录方差\n",
    "    var.append(cvresult.var())\n",
    "    #计算泛化误差的可控部分\n",
    "    ge.append((1 - cvresult.mean())**2+cvresult.var())\n",
    "#打印R2最高所对应的参数取值，并打印这个参数下的方差\n",
    "print(axisx[rs.index(max(rs))],max(rs),var[rs.index(max(rs))])\n",
    "#打印方差最低时对应的参数取值，并打印这个参数下的R2\n",
    "print(axisx[var.index(min(var))],rs[var.index(min(var))],min(var))\n",
    "#打印泛化误差可控部分的参数取值，并打印这个参数下的R2，方差以及泛化误差的可控部分\n",
    "print(axisx[ge.index(min(ge))],rs[ge.index(min(ge))],var[ge.index(min(ge))],min(ge))\n",
    "plt.figure(figsize=(20,5))\n",
    "plt.plot(axisx,rs,c=\"red\",label=\"XGB\")\n",
    "plt.legend()\n",
    "plt.show()"
   ]
  },
  {
   "cell_type": "code",
   "execution_count": 32,
   "metadata": {},
   "outputs": [
    {
     "name": "stdout",
     "output_type": "stream",
     "text": [
      "100 0.8320924293483107 0.005344212126112929\n",
      "100 0.8320924293483107 0.005344212126112929\n",
      "100 0.8320924293483107 0.005344212126112929 0.03353716440826495\n"
     ]
    },
    {
     "data": {
      "image/png": "[encoded data removed]",
      "text/plain": [
       "<Figure size 1440x360 with 1 Axes>"
      ]
     },
     "metadata": {
      "needs_background": "light"
     },
     "output_type": "display_data"
    }
   ],
   "source": [
    "axisx = range(100,300,10)\n",
    "rs = []\n",
    "var = []\n",
    "ge = []\n",
    "for i in axisx:\n",
    "    reg = XGBR(n_estimators=i,random_state=420)\n",
    "    cvresult = CVS(reg,Xtrain,Ytrain,cv=cv)\n",
    "    rs.append(cvresult.mean())\n",
    "    var.append(cvresult.var())\n",
    "    ge.append((1 - cvresult.mean())**2+cvresult.var())\n",
    "print(axisx[rs.index(max(rs))],max(rs),var[rs.index(max(rs))])\n",
    "print(axisx[var.index(min(var))],rs[var.index(min(var))],min(var))\n",
    "print(axisx[ge.index(min(ge))],rs[ge.index(min(ge))],var[ge.index(min(ge))],min(ge))\n",
    "rs = np.array(rs)\n",
    "var = np.array(var)*0.01\n",
    "plt.figure(figsize=(20,5))\n",
    "plt.plot(axisx,rs,c=\"black\",label=\"XGB\")\n",
    "#添加方差线\n",
    "plt.plot(axisx,rs+var,c=\"red\",linestyle='-.')\n",
    "plt.plot(axisx,rs-var,c=\"red\",linestyle='-.')\n",
    "plt.legend()\n",
    "plt.show()"
   ]
  },
  {
   "cell_type": "code",
   "execution_count": 33,
   "metadata": {},
   "outputs": [
    {
     "data": {
      "image/png": "[encoded data removed]",
      "text/plain": [
       "<Figure size 1440x360 with 1 Axes>"
      ]
     },
     "metadata": {
      "needs_background": "light"
     },
     "output_type": "display_data"
    }
   ],
   "source": [
    "#看看泛化误差的可控部分如何？\n",
    "plt.figure(figsize=(20,5))\n",
    "plt.plot(axisx,ge,c=\"gray\",linestyle='-.')\n",
    "plt.show()"
   ]
  },
  {
   "cell_type": "code",
   "execution_count": 34,
   "metadata": {},
   "outputs": [
    {
     "name": "stdout",
     "output_type": "stream",
     "text": [
      "0.9050988968414799\n",
      "0.06199836730957031\n"
     ]
    }
   ],
   "source": [
    "#验证模型效果是否提高了？\n",
    "time0 = time()\n",
    "print(XGBR(n_estimators=100,random_state=420).fit(Xtrain,Ytrain).score(Xtest,Ytest))\n",
    "print(time()-time0)"
   ]
  },
  {
   "cell_type": "code",
   "execution_count": 35,
   "metadata": {},
   "outputs": [
    {
     "name": "stdout",
     "output_type": "stream",
     "text": [
      "0.9050526026617368\n",
      "0.15400004386901855\n"
     ]
    }
   ],
   "source": [
    "time0 = time()\n",
    "print(XGBR(n_estimators=660,random_state=420).fit(Xtrain,Ytrain).score(Xtest,Ytest))\n",
    "print(time()-time0)"
   ]
  },
  {
   "cell_type": "code",
   "execution_count": 36,
   "metadata": {},
   "outputs": [
    {
     "name": "stdout",
     "output_type": "stream",
     "text": [
      "0.9050526026617368\n",
      "0.11300086975097656\n"
     ]
    }
   ],
   "source": [
    "time0 = time()\n",
    "print(XGBR(n_estimators=180,random_state=420).fit(Xtrain,Ytrain).score(Xtest,Ytest))\n",
    "print(time()-time0)"
   ]
  },
  {
   "cell_type": "code",
   "execution_count": 37,
   "metadata": {},
   "outputs": [
    {
     "name": "stdout",
     "output_type": "stream",
     "text": [
      "1.0 0.8320775188717384\n"
     ]
    },
    {
     "data": {
      "image/png": "[encoded data removed]",
      "text/plain": [
       "<Figure size 1440x360 with 1 Axes>"
      ]
     },
     "metadata": {
      "needs_background": "light"
     },
     "output_type": "display_data"
    }
   ],
   "source": [
    "axisx = np.linspace(0,1,20)\n",
    "rs = []\n",
    "for i in axisx:\n",
    "    reg = XGBR(n_estimators=180,subsample=i,random_state=420)\n",
    "    rs.append(CVS(reg,Xtrain,Ytrain,cv=cv).mean())\n",
    "print(axisx[rs.index(max(rs))],max(rs))\n",
    "plt.figure(figsize=(20,5))\n",
    "plt.plot(axisx,rs,c=\"green\",label=\"XGB\")\n",
    "plt.legend()\n",
    "plt.show()"
   ]
  },
  {
   "cell_type": "code",
   "execution_count": 38,
   "metadata": {},
   "outputs": [
    {
     "name": "stdout",
     "output_type": "stream",
     "text": [
      "1.0 0.8320775188717384 0.005351387286069266\n",
      "0.75 0.8173343503953288 0.0026743863585713006\n",
      "1.0 0.8320775188717384 0.005351387286069266 0.033549346954340635\n"
     ]
    },
    {
     "data": {
      "image/png": "[encoded data removed]",
      "text/plain": [
       "<Figure size 1440x360 with 1 Axes>"
      ]
     },
     "metadata": {
      "needs_background": "light"
     },
     "output_type": "display_data"
    }
   ],
   "source": [
    "#继续细化学习曲线\n",
    "axisx = np.linspace(0.05,1,20)\n",
    "rs = []\n",
    "var = []\n",
    "ge = []\n",
    "for i in axisx:\n",
    "    reg = XGBR(n_estimators=180,subsample=i,random_state=420)\n",
    "    cvresult = CVS(reg,Xtrain,Ytrain,cv=cv)\n",
    "    rs.append(cvresult.mean())\n",
    "    var.append(cvresult.var())\n",
    "    ge.append((1 - cvresult.mean())**2+cvresult.var())\n",
    "print(axisx[rs.index(max(rs))],max(rs),var[rs.index(max(rs))])\n",
    "print(axisx[var.index(min(var))],rs[var.index(min(var))],min(var))\n",
    "print(axisx[ge.index(min(ge))],rs[ge.index(min(ge))],var[ge.index(min(ge))],min(ge))\n",
    "rs = np.array(rs)\n",
    "var = np.array(var)\n",
    "plt.figure(figsize=(20,5))\n",
    "plt.plot(axisx,rs,c=\"black\",label=\"XGB\")\n",
    "plt.plot(axisx,rs+var,c=\"red\",linestyle='-.')\n",
    "plt.plot(axisx,rs-var,c=\"red\",linestyle='-.')\n",
    "plt.legend()\n",
    "plt.show()"
   ]
  },
  {
   "cell_type": "code",
   "execution_count": 39,
   "metadata": {},
   "outputs": [
    {
     "name": "stdout",
     "output_type": "stream",
     "text": [
      "1.0 0.8320775188717384 0.005351387286069266\n",
      "0.9375 0.8213396566374618 0.0023020917916805996\n",
      "1.0 0.8320775188717384 0.005351387286069266 0.033549346954340635\n"
     ]
    },
    {
     "data": {
      "image/png": "[encoded data removed]",
      "text/plain": [
       "<Figure size 1440x360 with 1 Axes>"
      ]
     },
     "metadata": {
      "needs_background": "light"
     },
     "output_type": "display_data"
    }
   ],
   "source": [
    "#细化学习曲线\n",
    "axisx = np.linspace(0.75,1,25)\n",
    "rs = []\n",
    "var = []\n",
    "ge = []\n",
    "for i in axisx:\n",
    "    reg = XGBR(n_estimators=180,subsample=i,random_state=420)\n",
    "    cvresult = CVS(reg,Xtrain,Ytrain,cv=cv)\n",
    "    rs.append(cvresult.mean())\n",
    "    var.append(cvresult.var())\n",
    "    ge.append((1 - cvresult.mean())**2+cvresult.var())\n",
    "print(axisx[rs.index(max(rs))],max(rs),var[rs.index(max(rs))])\n",
    "print(axisx[var.index(min(var))],rs[var.index(min(var))],min(var))\n",
    "print(axisx[ge.index(min(ge))],rs[ge.index(min(ge))],var[ge.index(min(ge))],min(ge))\n",
    "rs = np.array(rs)\n",
    "var = np.array(var)\n",
    "plt.figure(figsize=(20,5))\n",
    "plt.plot(axisx,rs,c=\"black\",label=\"XGB\")\n",
    "plt.plot(axisx,rs+var,c=\"red\",linestyle='-.')\n",
    "plt.plot(axisx,rs-var,c=\"red\",linestyle='-.')\n",
    "plt.legend()\n",
    "plt.show()"
   ]
  },
  {
   "cell_type": "code",
   "execution_count": 40,
   "metadata": {},
   "outputs": [
    {
     "data": {
      "text/plain": [
       "0.9050526026617368"
      ]
     },
     "execution_count": 40,
     "metadata": {},
     "output_type": "execute_result"
    }
   ],
   "source": [
    "reg = XGBR(n_estimators=180\n",
    "         #  ,subsample=0.7708333333333334\n",
    "           ,random_state=420).fit(Xtrain,Ytrain)\n",
    "reg.score(Xtest,Ytest)"
   ]
  },
  {
   "cell_type": "code",
   "execution_count": 41,
   "metadata": {},
   "outputs": [
    {
     "data": {
      "text/plain": [
       "8.835224196909236"
      ]
     },
     "execution_count": 41,
     "metadata": {},
     "output_type": "execute_result"
    }
   ],
   "source": [
    "MSE(Ytest,reg.predict(Xtest))"
   ]
  },
  {
   "cell_type": "code",
   "execution_count": 42,
   "metadata": {},
   "outputs": [],
   "source": [
    "#首先我们先来定义一个评分函数，这个评分函数能够帮助我们直接打印Xtrain上的交叉验证结果\n",
    "def regassess(reg,Xtrain,Ytrain,cv,scoring = [\"r2\"],show=True):\n",
    "    score = []\n",
    "    for i in range(len(scoring)):\n",
    "        if show:\n",
    "            print(\"{}:{:.2f}\".format(scoring[i] #模型评估指标的名字\n",
    "                                     ,CVS(reg\n",
    "                                          ,Xtrain,Ytrain\n",
    "                                          ,cv=cv,scoring=scoring[i]).mean()))\n",
    "        score.append(CVS(reg,Xtrain,Ytrain,cv=cv,scoring=scoring[i]).mean())\n",
    "    return score"
   ]
  },
  {
   "cell_type": "code",
   "execution_count": 43,
   "metadata": {},
   "outputs": [],
   "source": [
    "reg = XGBR(n_estimators=180,random_state=420)"
   ]
  },
  {
   "cell_type": "code",
   "execution_count": 44,
   "metadata": {},
   "outputs": [
    {
     "name": "stdout",
     "output_type": "stream",
     "text": [
      "r2:0.83\n",
      "neg_mean_squared_error:-12.11\n"
     ]
    },
    {
     "data": {
      "text/plain": [
       "[0.8320775188717384, -12.108527537667213]"
      ]
     },
     "execution_count": 44,
     "metadata": {},
     "output_type": "execute_result"
    }
   ],
   "source": [
    "regassess(reg,Xtrain,Ytrain,cv,scoring = [\"r2\",\"neg_mean_squared_error\"])"
   ]
  },
  {
   "cell_type": "code",
   "execution_count": 45,
   "metadata": {},
   "outputs": [
    {
     "data": {
      "text/plain": [
       "[0.8320775188717384, -12.108527537667213]"
      ]
     },
     "execution_count": 45,
     "metadata": {},
     "output_type": "execute_result"
    }
   ],
   "source": [
    "regassess(reg,Xtrain,Ytrain,cv,scoring = [\"r2\",\"neg_mean_squared_error\"],show=False)"
   ]
  },
  {
   "cell_type": "code",
   "execution_count": 46,
   "metadata": {},
   "outputs": [
    {
     "name": "stdout",
     "output_type": "stream",
     "text": [
      "learning_rate = 0\n",
      "r2:-6.76\n",
      "neg_mean_squared_error:-567.55\n",
      "00:01:043000\n",
      "\t\n",
      "learning_rate = 0.2\n",
      "r2:0.83\n",
      "neg_mean_squared_error:-12.30\n",
      "00:01:914001\n",
      "\t\n",
      "learning_rate = 0.5\n",
      "r2:0.82\n",
      "neg_mean_squared_error:-12.48\n",
      "00:01:064998\n",
      "\t\n",
      "learning_rate = 1\n",
      "r2:0.71\n",
      "neg_mean_squared_error:-20.06\n",
      "00:00:773001\n",
      "\t\n"
     ]
    }
   ],
   "source": [
    "from time import time\n",
    "import datetime\n",
    "\n",
    "for i in [0,0.2,0.5,1]:\n",
    "    time0=time()\n",
    "    reg = XGBR(n_estimators=180,random_state=420,learning_rate=i)\n",
    "    print(\"learning_rate = {}\".format(i))\n",
    "    regassess(reg,Xtrain,Ytrain,cv,scoring = [\"r2\",\"neg_mean_squared_error\"])\n",
    "    print(datetime.datetime.fromtimestamp(time()-time0).strftime(\"%M:%S:%f\"))\n",
    "    print(\"\\t\")"
   ]
  },
  {
   "cell_type": "code",
   "execution_count": 47,
   "metadata": {},
   "outputs": [
    {
     "name": "stdout",
     "output_type": "stream",
     "text": [
      "0.1 0.8354667578172856\n"
     ]
    },
    {
     "data": {
      "image/png": "[encoded data removed]",
      "text/plain": [
       "<Figure size 1440x360 with 1 Axes>"
      ]
     },
     "metadata": {
      "needs_background": "light"
     },
     "output_type": "display_data"
    }
   ],
   "source": [
    "axisx = np.arange(0.05,1,0.05)\n",
    "rs = []\n",
    "te = []\n",
    "for i in axisx:\n",
    "    reg = XGBR(n_estimators=180,random_state=420,learning_rate=i)\n",
    "    score = regassess(reg,Xtrain,Ytrain,cv,scoring = [\"r2\",\"neg_mean_squared_error\"],show=False)\n",
    "    test = reg.fit(Xtrain,Ytrain).score(Xtest,Ytest)\n",
    "    rs.append(score[0])\n",
    "    te.append(test)\n",
    "print(axisx[rs.index(max(rs))],max(rs))\n",
    "plt.figure(figsize=(20,5))\n",
    "plt.plot(axisx,te,c=\"gray\",label=\"test\")\n",
    "plt.plot(axisx,rs,c=\"green\",label=\"train\")\n",
    "plt.legend()\n",
    "plt.show()"
   ]
  },
  {
   "cell_type": "code",
   "execution_count": 48,
   "metadata": {},
   "outputs": [
    {
     "name": "stdout",
     "output_type": "stream",
     "text": [
      "gbtree\n",
      "0.9260984369386971\n",
      "gblinear\n",
      "0.6490281006749604\n",
      "dart\n",
      "0.9260984373654245\n"
     ]
    }
   ],
   "source": [
    "for booster in [\"gbtree\",\"gblinear\",\"dart\"]:\n",
    "    reg = XGBR(n_estimators=180\n",
    "               ,learning_rate=0.1\n",
    "               ,random_state=420\n",
    "               ,booster=booster).fit(Xtrain,Ytrain)\n",
    "    print(booster)\n",
    "    print(reg.score(Xtest,Ytest))"
   ]
  },
  {
   "cell_type": "code",
   "execution_count": 49,
   "metadata": {},
   "outputs": [
    {
     "data": {
      "text/plain": [
       "0.9050526026617368"
      ]
     },
     "execution_count": 49,
     "metadata": {},
     "output_type": "execute_result"
    }
   ],
   "source": [
    "#默认reg:linear\n",
    "reg = XGBR(n_estimators=180,random_state=420).fit(Xtrain,Ytrain)\n",
    "reg.score(Xtest, Ytest)"
   ]
  },
  {
   "cell_type": "code",
   "execution_count": 50,
   "metadata": {},
   "outputs": [
    {
     "data": {
      "text/plain": [
       "8.835224196909236"
      ]
     },
     "execution_count": 50,
     "metadata": {},
     "output_type": "execute_result"
    }
   ],
   "source": [
    "MSE(Ytest,reg.predict(Xtest))"
   ]
  },
  {
   "cell_type": "code",
   "execution_count": 51,
   "metadata": {},
   "outputs": [],
   "source": [
    "#xgb实现法\n",
    "import xgboost as xgb"
   ]
  },
  {
   "cell_type": "code",
   "execution_count": 52,
   "metadata": {},
   "outputs": [],
   "source": [
    "#使用类DMatrix读取数据\n",
    "dtrain = xgb.DMatrix(Xtrain,Ytrain) #特征矩阵和标签都进行一个传入\n",
    "dtest = xgb.DMatrix(Xtest,Ytest)"
   ]
  },
  {
   "cell_type": "code",
   "execution_count": 53,
   "metadata": {},
   "outputs": [
    {
     "data": {
      "text/plain": [
       "<xgboost.core.DMatrix at 0x206d998fc50>"
      ]
     },
     "execution_count": 53,
     "metadata": {},
     "output_type": "execute_result"
    }
   ],
   "source": [
    "#非常遗憾无法打开来查看，所以通常都是先读到pandas里面查看之后再放到DMatrix中\n",
    "dtrain"
   ]
  },
  {
   "cell_type": "code",
   "execution_count": 54,
   "metadata": {},
   "outputs": [],
   "source": [
    "import pandas as pd"
   ]
  },
  {
   "cell_type": "code",
   "execution_count": 55,
   "metadata": {},
   "outputs": [
    {
     "data": {
      "text/html": [
       "<div>\n",
       "<style scoped>\n",
       "    .dataframe tbody tr th:only-of-type {\n",
       "        vertical-align: middle;\n",
       "    }\n",
       "\n",
       "    .dataframe tbody tr th {\n",
       "        vertical-align: top;\n",
       "    }\n",
       "\n",
       "    .dataframe thead th {\n",
       "        text-align: right;\n",
       "    }\n",
       "</style>\n",
       "<table border=\"1\" class=\"dataframe\">\n",
       "  <thead>\n",
       "    <tr style=\"text-align: right;\">\n",
       "      <th></th>\n",
       "      <th>0</th>\n",
       "      <th>1</th>\n",
       "      <th>2</th>\n",
       "      <th>3</th>\n",
       "      <th>4</th>\n",
       "      <th>5</th>\n",
       "      <th>6</th>\n",
       "      <th>7</th>\n",
       "      <th>8</th>\n",
       "      <th>9</th>\n",
       "      <th>10</th>\n",
       "      <th>11</th>\n",
       "      <th>12</th>\n",
       "    </tr>\n",
       "  </thead>\n",
       "  <tbody>\n",
       "    <tr>\n",
       "      <th>0</th>\n",
       "      <td>0.03041</td>\n",
       "      <td>0.0</td>\n",
       "      <td>5.19</td>\n",
       "      <td>0.0</td>\n",
       "      <td>0.515</td>\n",
       "      <td>5.895</td>\n",
       "      <td>59.6</td>\n",
       "      <td>5.6150</td>\n",
       "      <td>5.0</td>\n",
       "      <td>224.0</td>\n",
       "      <td>20.2</td>\n",
       "      <td>394.81</td>\n",
       "      <td>10.56</td>\n",
       "    </tr>\n",
       "    <tr>\n",
       "      <th>1</th>\n",
       "      <td>0.04113</td>\n",
       "      <td>25.0</td>\n",
       "      <td>4.86</td>\n",
       "      <td>0.0</td>\n",
       "      <td>0.426</td>\n",
       "      <td>6.727</td>\n",
       "      <td>33.5</td>\n",
       "      <td>5.4007</td>\n",
       "      <td>4.0</td>\n",
       "      <td>281.0</td>\n",
       "      <td>19.0</td>\n",
       "      <td>396.90</td>\n",
       "      <td>5.29</td>\n",
       "    </tr>\n",
       "    <tr>\n",
       "      <th>2</th>\n",
       "      <td>10.23300</td>\n",
       "      <td>0.0</td>\n",
       "      <td>18.10</td>\n",
       "      <td>0.0</td>\n",
       "      <td>0.614</td>\n",
       "      <td>6.185</td>\n",
       "      <td>96.7</td>\n",
       "      <td>2.1705</td>\n",
       "      <td>24.0</td>\n",
       "      <td>666.0</td>\n",
       "      <td>20.2</td>\n",
       "      <td>379.70</td>\n",
       "      <td>18.03</td>\n",
       "    </tr>\n",
       "    <tr>\n",
       "      <th>3</th>\n",
       "      <td>0.17142</td>\n",
       "      <td>0.0</td>\n",
       "      <td>6.91</td>\n",
       "      <td>0.0</td>\n",
       "      <td>0.448</td>\n",
       "      <td>5.682</td>\n",
       "      <td>33.8</td>\n",
       "      <td>5.1004</td>\n",
       "      <td>3.0</td>\n",
       "      <td>233.0</td>\n",
       "      <td>17.9</td>\n",
       "      <td>396.90</td>\n",
       "      <td>10.21</td>\n",
       "    </tr>\n",
       "    <tr>\n",
       "      <th>4</th>\n",
       "      <td>0.05059</td>\n",
       "      <td>0.0</td>\n",
       "      <td>4.49</td>\n",
       "      <td>0.0</td>\n",
       "      <td>0.449</td>\n",
       "      <td>6.389</td>\n",
       "      <td>48.0</td>\n",
       "      <td>4.7794</td>\n",
       "      <td>3.0</td>\n",
       "      <td>247.0</td>\n",
       "      <td>18.5</td>\n",
       "      <td>396.90</td>\n",
       "      <td>9.62</td>\n",
       "    </tr>\n",
       "    <tr>\n",
       "      <th>...</th>\n",
       "      <td>...</td>\n",
       "      <td>...</td>\n",
       "      <td>...</td>\n",
       "      <td>...</td>\n",
       "      <td>...</td>\n",
       "      <td>...</td>\n",
       "      <td>...</td>\n",
       "      <td>...</td>\n",
       "      <td>...</td>\n",
       "      <td>...</td>\n",
       "      <td>...</td>\n",
       "      <td>...</td>\n",
       "      <td>...</td>\n",
       "    </tr>\n",
       "    <tr>\n",
       "      <th>349</th>\n",
       "      <td>0.03871</td>\n",
       "      <td>52.5</td>\n",
       "      <td>5.32</td>\n",
       "      <td>0.0</td>\n",
       "      <td>0.405</td>\n",
       "      <td>6.209</td>\n",
       "      <td>31.3</td>\n",
       "      <td>7.3172</td>\n",
       "      <td>6.0</td>\n",
       "      <td>293.0</td>\n",
       "      <td>16.6</td>\n",
       "      <td>396.90</td>\n",
       "      <td>7.14</td>\n",
       "    </tr>\n",
       "    <tr>\n",
       "      <th>350</th>\n",
       "      <td>0.12650</td>\n",
       "      <td>25.0</td>\n",
       "      <td>5.13</td>\n",
       "      <td>0.0</td>\n",
       "      <td>0.453</td>\n",
       "      <td>6.762</td>\n",
       "      <td>43.4</td>\n",
       "      <td>7.9809</td>\n",
       "      <td>8.0</td>\n",
       "      <td>284.0</td>\n",
       "      <td>19.7</td>\n",
       "      <td>395.58</td>\n",
       "      <td>9.50</td>\n",
       "    </tr>\n",
       "    <tr>\n",
       "      <th>351</th>\n",
       "      <td>6.96215</td>\n",
       "      <td>0.0</td>\n",
       "      <td>18.10</td>\n",
       "      <td>0.0</td>\n",
       "      <td>0.700</td>\n",
       "      <td>5.713</td>\n",
       "      <td>97.0</td>\n",
       "      <td>1.9265</td>\n",
       "      <td>24.0</td>\n",
       "      <td>666.0</td>\n",
       "      <td>20.2</td>\n",
       "      <td>394.43</td>\n",
       "      <td>17.11</td>\n",
       "    </tr>\n",
       "    <tr>\n",
       "      <th>352</th>\n",
       "      <td>0.09164</td>\n",
       "      <td>0.0</td>\n",
       "      <td>10.81</td>\n",
       "      <td>0.0</td>\n",
       "      <td>0.413</td>\n",
       "      <td>6.065</td>\n",
       "      <td>7.8</td>\n",
       "      <td>5.2873</td>\n",
       "      <td>4.0</td>\n",
       "      <td>305.0</td>\n",
       "      <td>19.2</td>\n",
       "      <td>390.91</td>\n",
       "      <td>5.52</td>\n",
       "    </tr>\n",
       "    <tr>\n",
       "      <th>353</th>\n",
       "      <td>5.58107</td>\n",
       "      <td>0.0</td>\n",
       "      <td>18.10</td>\n",
       "      <td>0.0</td>\n",
       "      <td>0.713</td>\n",
       "      <td>6.436</td>\n",
       "      <td>87.9</td>\n",
       "      <td>2.3158</td>\n",
       "      <td>24.0</td>\n",
       "      <td>666.0</td>\n",
       "      <td>20.2</td>\n",
       "      <td>100.19</td>\n",
       "      <td>16.22</td>\n",
       "    </tr>\n",
       "  </tbody>\n",
       "</table>\n",
       "<p>354 rows × 13 columns</p>\n",
       "</div>"
      ],
      "text/plain": [
       "           0     1      2    3      4      5     6       7     8      9   \\\n",
       "0     0.03041   0.0   5.19  0.0  0.515  5.895  59.6  5.6150   5.0  224.0   \n",
       "1     0.04113  25.0   4.86  0.0  0.426  6.727  33.5  5.4007   4.0  281.0   \n",
       "2    10.23300   0.0  18.10  0.0  0.614  6.185  96.7  2.1705  24.0  666.0   \n",
       "3     0.17142   0.0   6.91  0.0  0.448  5.682  33.8  5.1004   3.0  233.0   \n",
       "4     0.05059   0.0   4.49  0.0  0.449  6.389  48.0  4.7794   3.0  247.0   \n",
       "..        ...   ...    ...  ...    ...    ...   ...     ...   ...    ...   \n",
       "349   0.03871  52.5   5.32  0.0  0.405  6.209  31.3  7.3172   6.0  293.0   \n",
       "350   0.12650  25.0   5.13  0.0  0.453  6.762  43.4  7.9809   8.0  284.0   \n",
       "351   6.96215   0.0  18.10  0.0  0.700  5.713  97.0  1.9265  24.0  666.0   \n",
       "352   0.09164   0.0  10.81  0.0  0.413  6.065   7.8  5.2873   4.0  305.0   \n",
       "353   5.58107   0.0  18.10  0.0  0.713  6.436  87.9  2.3158  24.0  666.0   \n",
       "\n",
       "       10      11     12  \n",
       "0    20.2  394.81  10.56  \n",
       "1    19.0  396.90   5.29  \n",
       "2    20.2  379.70  18.03  \n",
       "3    17.9  396.90  10.21  \n",
       "4    18.5  396.90   9.62  \n",
       "..    ...     ...    ...  \n",
       "349  16.6  396.90   7.14  \n",
       "350  19.7  395.58   9.50  \n",
       "351  20.2  394.43  17.11  \n",
       "352  19.2  390.91   5.52  \n",
       "353  20.2  100.19  16.22  \n",
       "\n",
       "[354 rows x 13 columns]"
      ]
     },
     "execution_count": 55,
     "metadata": {},
     "output_type": "execute_result"
    }
   ],
   "source": [
    "pd.DataFrame(Xtrain)"
   ]
  },
  {
   "cell_type": "code",
   "execution_count": 56,
   "metadata": {},
   "outputs": [],
   "source": [
    "#写明参数\n",
    "param = {'silent':True #默认为False，通常要手动把它关闭掉\n",
    "         ,'objective':'reg:linear'\n",
    "         ,\"eta\":0.1}\n",
    "num_round = 180 #n_estimators"
   ]
  },
  {
   "cell_type": "code",
   "execution_count": 57,
   "metadata": {},
   "outputs": [
    {
     "name": "stdout",
     "output_type": "stream",
     "text": [
      "[10:52:31] WARNING: d:\\bld\\xgboost-split_1615294821523\\work\\src\\objective\\regression_obj.cu:170: reg:linear is now deprecated in favor of reg:squarederror.\n",
      "[10:52:31] WARNING: ..\\src\\learner.cc:541: \n",
      "Parameters: { silent } might not be used.\n",
      "\n",
      "  This may not be accurate due to some parameters are only used in language bindings but\n",
      "  passed down to XGBoost core.  Or some parameters are not used but slip through this\n",
      "  verification. Please open an issue if you find above cases.\n",
      "\n",
      "\n"
     ]
    }
   ],
   "source": [
    "#类train，可以直接导入的参数是训练数据，树的数量，其他参数都需要通过params来导入\n",
    "bst = xgb.train(param, dtrain, num_round)"
   ]
  },
  {
   "cell_type": "code",
   "execution_count": 58,
   "metadata": {},
   "outputs": [],
   "source": [
    "#接口predict\n",
    "preds = bst.predict(dtest)"
   ]
  },
  {
   "cell_type": "code",
   "execution_count": 59,
   "metadata": {},
   "outputs": [
    {
     "data": {
      "text/plain": [
       "array([ 6.4613175, 22.123888 , 30.755163 , 13.424353 ,  8.378563 ,\n",
       "       23.608473 , 14.2151165, 16.0265   , 15.498961 , 14.106488 ,\n",
       "       24.030863 , 34.36362  , 21.461111 , 28.839497 , 19.568035 ,\n",
       "       10.18866  , 19.42369  , 23.539951 , 22.850523 , 23.19871  ,\n",
       "       17.82486  , 16.072205 , 27.602034 , 20.773046 , 20.868807 ,\n",
       "       15.865789 , 22.076588 , 29.292158 , 22.841051 , 15.770392 ,\n",
       "       36.680496 , 21.057947 , 20.137005 , 23.777853 , 22.70615  ,\n",
       "       23.863268 , 15.595315 , 24.565872 , 17.720552 , 33.951115 ,\n",
       "       18.784288 , 20.483376 , 37.106678 , 18.068266 , 12.73839  ,\n",
       "       31.186407 , 45.895035 , 12.696718 , 10.773068 , 36.064293 ,\n",
       "       26.262571 , 19.908836 , 20.715096 , 48.814903 , 27.550056 ,\n",
       "       25.225826 , 17.15366  , 21.215551 , 17.426773 , 18.478971 ,\n",
       "       14.6453705, 22.841473 , 18.869593 , 29.990978 , 29.933191 ,\n",
       "       18.756855 , 18.784918 , 16.33362  , 23.15597  , 19.144344 ,\n",
       "       29.724382 , 42.121906 , 31.544363 , 23.017508 , 19.536028 ,\n",
       "       23.851992 , 41.790577 , 28.676506 , 20.036423 , 21.723856 ,\n",
       "       19.537868 , 46.349495 , 23.119637 ,  8.0714445, 26.358177 ,\n",
       "       24.85706  , 17.057545 , 20.084204 , 18.54005  ,  7.157663 ,\n",
       "       20.593962 , 15.451031 , 45.09552  , 34.435097 , 22.969654 ,\n",
       "       10.10335  , 10.803316 , 18.42058  ,  7.800361 , 11.79309  ,\n",
       "       30.755335 , 10.806479 , 26.122625 , 22.589502 , 31.219454 ,\n",
       "       42.283318 , 19.274107 ,  7.3861713, 23.055706 , 14.315018 ,\n",
       "       45.136368 , 21.243176 , 19.715649 , 24.533583 , 18.24247  ,\n",
       "       28.382742 , 23.411816 , 19.962458 , 45.916683 , 17.521889 ,\n",
       "       24.130386 , 26.147182 , 18.418781 , 17.606571 , 14.540631 ,\n",
       "       20.595512 , 32.591278 , 10.155618 , 20.53032  , 21.477484 ,\n",
       "       17.450048 , 20.154486 ,  8.010226 , 30.482618 , 29.677181 ,\n",
       "       20.357098 , 18.222181 , 14.14504  , 10.100547 , 18.85027  ,\n",
       "       41.85804  , 17.445444 , 22.90718  , 21.02398  , 29.799366 ,\n",
       "       20.219465 , 12.404763 , 45.750965 , 25.56757  , 22.000706 ,\n",
       "       14.194921 , 27.102774 ], dtype=float32)"
      ]
     },
     "execution_count": 59,
     "metadata": {},
     "output_type": "execute_result"
    }
   ],
   "source": [
    "preds"
   ]
  },
  {
   "cell_type": "code",
   "execution_count": 60,
   "metadata": {},
   "outputs": [
    {
     "data": {
      "text/plain": [
       "0.9260984369386971"
      ]
     },
     "execution_count": 60,
     "metadata": {},
     "output_type": "execute_result"
    }
   ],
   "source": [
    "from sklearn.metrics import r2_score\n",
    "r2_score(Ytest,preds)"
   ]
  },
  {
   "cell_type": "code",
   "execution_count": 61,
   "metadata": {},
   "outputs": [
    {
     "data": {
      "text/plain": [
       "6.876827553497432"
      ]
     },
     "execution_count": 61,
     "metadata": {},
     "output_type": "execute_result"
    }
   ],
   "source": [
    "MSE(Ytest,preds)"
   ]
  },
  {
   "cell_type": "code",
   "execution_count": 62,
   "metadata": {},
   "outputs": [],
   "source": [
    "import xgboost as xgb\n",
    "\n",
    "#为了便捷，使用全数据\n",
    "dfull = xgb.DMatrix(X,y)"
   ]
  },
  {
   "cell_type": "code",
   "execution_count": 63,
   "metadata": {},
   "outputs": [],
   "source": [
    "#设定参数\n",
    "param1 = {'silent':True,'obj':'reg:linear',\"gamma\":0}\n",
    "num_round = 100\n",
    "n_fold=5 #sklearn - KFold"
   ]
  },
  {
   "cell_type": "code",
   "execution_count": 64,
   "metadata": {},
   "outputs": [
    {
     "name": "stdout",
     "output_type": "stream",
     "text": [
      "[10:52:31] WARNING: ..\\src\\learner.cc:541: \n",
      "Parameters: { obj, silent } might not be used.\n",
      "\n",
      "  This may not be accurate due to some parameters are only used in language bindings but\n",
      "  passed down to XGBoost core.  Or some parameters are not used but slip through this\n",
      "  verification. Please open an issue if you find above cases.\n",
      "\n",
      "\n",
      "[10:52:31] WARNING: ..\\src\\learner.cc:541: \n",
      "Parameters: { obj, silent } might not be used.\n",
      "\n",
      "  This may not be accurate due to some parameters are only used in language bindings but\n",
      "  passed down to XGBoost core.  Or some parameters are not used but slip through this\n",
      "  verification. Please open an issue if you find above cases.\n",
      "\n",
      "\n",
      "[10:52:31] WARNING: ..\\src\\learner.cc:541: \n",
      "Parameters: { obj, silent } might not be used.\n",
      "\n",
      "  This may not be accurate due to some parameters are only used in language bindings but\n",
      "  passed down to XGBoost core.  Or some parameters are not used but slip through this\n",
      "  verification. Please open an issue if you find above cases.\n",
      "\n",
      "\n",
      "[10:52:31] WARNING: ..\\src\\learner.cc:541: \n",
      "Parameters: { obj, silent } might not be used.\n",
      "\n",
      "  This may not be accurate due to some parameters are only used in language bindings but\n",
      "  passed down to XGBoost core.  Or some parameters are not used but slip through this\n",
      "  verification. Please open an issue if you find above cases.\n",
      "\n",
      "\n",
      "[10:52:31] WARNING: ..\\src\\learner.cc:541: \n",
      "Parameters: { obj, silent } might not be used.\n",
      "\n",
      "  This may not be accurate due to some parameters are only used in language bindings but\n",
      "  passed down to XGBoost core.  Or some parameters are not used but slip through this\n",
      "  verification. Please open an issue if you find above cases.\n",
      "\n",
      "\n",
      "00:00:176000\n"
     ]
    }
   ],
   "source": [
    "#使用类xgb.cv\n",
    "time0 = time()\n",
    "cvresult1 = xgb.cv(param1, dfull, num_round,n_fold)\n",
    "print(datetime.datetime.fromtimestamp(time()-time0).strftime(\"%M:%S:%f\"))"
   ]
  },
  {
   "cell_type": "code",
   "execution_count": 65,
   "metadata": {},
   "outputs": [
    {
     "data": {
      "text/html": [
       "<div>\n",
       "<style scoped>\n",
       "    .dataframe tbody tr th:only-of-type {\n",
       "        vertical-align: middle;\n",
       "    }\n",
       "\n",
       "    .dataframe tbody tr th {\n",
       "        vertical-align: top;\n",
       "    }\n",
       "\n",
       "    .dataframe thead th {\n",
       "        text-align: right;\n",
       "    }\n",
       "</style>\n",
       "<table border=\"1\" class=\"dataframe\">\n",
       "  <thead>\n",
       "    <tr style=\"text-align: right;\">\n",
       "      <th></th>\n",
       "      <th>train-rmse-mean</th>\n",
       "      <th>train-rmse-std</th>\n",
       "      <th>test-rmse-mean</th>\n",
       "      <th>test-rmse-std</th>\n",
       "    </tr>\n",
       "  </thead>\n",
       "  <tbody>\n",
       "    <tr>\n",
       "      <th>0</th>\n",
       "      <td>17.105578</td>\n",
       "      <td>0.129116</td>\n",
       "      <td>17.163215</td>\n",
       "      <td>0.584296</td>\n",
       "    </tr>\n",
       "    <tr>\n",
       "      <th>1</th>\n",
       "      <td>12.337973</td>\n",
       "      <td>0.097557</td>\n",
       "      <td>12.519736</td>\n",
       "      <td>0.473458</td>\n",
       "    </tr>\n",
       "    <tr>\n",
       "      <th>2</th>\n",
       "      <td>8.994071</td>\n",
       "      <td>0.065756</td>\n",
       "      <td>9.404534</td>\n",
       "      <td>0.472309</td>\n",
       "    </tr>\n",
       "    <tr>\n",
       "      <th>3</th>\n",
       "      <td>6.629481</td>\n",
       "      <td>0.050323</td>\n",
       "      <td>7.250335</td>\n",
       "      <td>0.500342</td>\n",
       "    </tr>\n",
       "    <tr>\n",
       "      <th>4</th>\n",
       "      <td>4.954406</td>\n",
       "      <td>0.033209</td>\n",
       "      <td>5.920812</td>\n",
       "      <td>0.591874</td>\n",
       "    </tr>\n",
       "    <tr>\n",
       "      <th>...</th>\n",
       "      <td>...</td>\n",
       "      <td>...</td>\n",
       "      <td>...</td>\n",
       "      <td>...</td>\n",
       "    </tr>\n",
       "    <tr>\n",
       "      <th>95</th>\n",
       "      <td>0.025204</td>\n",
       "      <td>0.005145</td>\n",
       "      <td>3.669921</td>\n",
       "      <td>0.858313</td>\n",
       "    </tr>\n",
       "    <tr>\n",
       "      <th>96</th>\n",
       "      <td>0.024422</td>\n",
       "      <td>0.005242</td>\n",
       "      <td>3.669984</td>\n",
       "      <td>0.858255</td>\n",
       "    </tr>\n",
       "    <tr>\n",
       "      <th>97</th>\n",
       "      <td>0.023661</td>\n",
       "      <td>0.005117</td>\n",
       "      <td>3.669947</td>\n",
       "      <td>0.858332</td>\n",
       "    </tr>\n",
       "    <tr>\n",
       "      <th>98</th>\n",
       "      <td>0.022562</td>\n",
       "      <td>0.004704</td>\n",
       "      <td>3.669868</td>\n",
       "      <td>0.858578</td>\n",
       "    </tr>\n",
       "    <tr>\n",
       "      <th>99</th>\n",
       "      <td>0.021496</td>\n",
       "      <td>0.004738</td>\n",
       "      <td>3.669824</td>\n",
       "      <td>0.858305</td>\n",
       "    </tr>\n",
       "  </tbody>\n",
       "</table>\n",
       "<p>100 rows × 4 columns</p>\n",
       "</div>"
      ],
      "text/plain": [
       "    train-rmse-mean  train-rmse-std  test-rmse-mean  test-rmse-std\n",
       "0         17.105578        0.129116       17.163215       0.584296\n",
       "1         12.337973        0.097557       12.519736       0.473458\n",
       "2          8.994071        0.065756        9.404534       0.472309\n",
       "3          6.629481        0.050323        7.250335       0.500342\n",
       "4          4.954406        0.033209        5.920812       0.591874\n",
       "..              ...             ...             ...            ...\n",
       "95         0.025204        0.005145        3.669921       0.858313\n",
       "96         0.024422        0.005242        3.669984       0.858255\n",
       "97         0.023661        0.005117        3.669947       0.858332\n",
       "98         0.022562        0.004704        3.669868       0.858578\n",
       "99         0.021496        0.004738        3.669824       0.858305\n",
       "\n",
       "[100 rows x 4 columns]"
      ]
     },
     "execution_count": 65,
     "metadata": {},
     "output_type": "execute_result"
    }
   ],
   "source": [
    "#看看类xgb.cv生成了什么结果？\n",
    "cvresult1 #随着树不断增加，我们的模型的效果如何变化"
   ]
  },
  {
   "cell_type": "code",
   "execution_count": 66,
   "metadata": {},
   "outputs": [
    {
     "data": {
      "image/png": "[encoded data removed]",
      "text/plain": [
       "<Figure size 1440x360 with 1 Axes>"
      ]
     },
     "metadata": {
      "needs_background": "light"
     },
     "output_type": "display_data"
    }
   ],
   "source": [
    "plt.figure(figsize=(20,5))\n",
    "plt.grid()\n",
    "plt.plot(range(1,101),cvresult1.iloc[:,0],c=\"red\",label=\"train,gamma=0\")\n",
    "plt.plot(range(1,101),cvresult1.iloc[:,2],c=\"orange\",label=\"test,gamma=0\")\n",
    "plt.legend()\n",
    "plt.show()\n",
    "\n",
    "#从这个图中，我们可以看出什么？\n",
    "#怎样从图中观察模型的泛化能力？\n",
    "#从这个图的角度来说，模型的调参目标是什么？"
   ]
  },
  {
   "cell_type": "code",
   "execution_count": 67,
   "metadata": {},
   "outputs": [],
   "source": [
    "#xgboost中回归模型的默认模型评估指标是什么？"
   ]
  },
  {
   "cell_type": "code",
   "execution_count": 68,
   "metadata": {},
   "outputs": [
    {
     "name": "stdout",
     "output_type": "stream",
     "text": [
      "[10:52:32] WARNING: ..\\src\\learner.cc:541: \n",
      "Parameters: { obj, silent } might not be used.\n",
      "\n",
      "  This may not be accurate due to some parameters are only used in language bindings but\n",
      "  passed down to XGBoost core.  Or some parameters are not used but slip through this\n",
      "  verification. Please open an issue if you find above cases.\n",
      "\n",
      "\n",
      "[10:52:32] WARNING: ..\\src\\learner.cc:541: \n",
      "Parameters: { obj, silent } might not be used.\n",
      "\n",
      "  This may not be accurate due to some parameters are only used in language bindings but\n",
      "  passed down to XGBoost core.  Or some parameters are not used but slip through this\n",
      "  verification. Please open an issue if you find above cases.\n",
      "\n",
      "\n",
      "[10:52:32] WARNING: ..\\src\\learner.cc:541: \n",
      "Parameters: { obj, silent } might not be used.\n",
      "\n",
      "  This may not be accurate due to some parameters are only used in language bindings but\n",
      "  passed down to XGBoost core.  Or some parameters are not used but slip through this\n",
      "  verification. Please open an issue if you find above cases.\n",
      "\n",
      "\n",
      "[10:52:32] WARNING: ..\\src\\learner.cc:541: \n",
      "Parameters: { obj, silent } might not be used.\n",
      "\n",
      "  This may not be accurate due to some parameters are only used in language bindings but\n",
      "  passed down to XGBoost core.  Or some parameters are not used but slip through this\n",
      "  verification. Please open an issue if you find above cases.\n",
      "\n",
      "\n",
      "[10:52:32] WARNING: ..\\src\\learner.cc:541: \n",
      "Parameters: { obj, silent } might not be used.\n",
      "\n",
      "  This may not be accurate due to some parameters are only used in language bindings but\n",
      "  passed down to XGBoost core.  Or some parameters are not used but slip through this\n",
      "  verification. Please open an issue if you find above cases.\n",
      "\n",
      "\n"
     ]
    },
    {
     "ename": "ValueError",
     "evalue": "x and y must have same first dimension, but have shapes (180,) and (100,)",
     "output_type": "error",
     "traceback": [
      "\u001b[1;31m---------------------------------------------------------------------------\u001b[0m",
      "\u001b[1;31mValueError\u001b[0m                                Traceback (most recent call last)",
      "\u001b[1;32m<ipython-input-68-18107e7b6271>\u001b[0m in \u001b[0;36m<module>\u001b[1;34m\u001b[0m\n\u001b[0;32m      4\u001b[0m \u001b[0mplt\u001b[0m\u001b[1;33m.\u001b[0m\u001b[0mfigure\u001b[0m\u001b[1;33m(\u001b[0m\u001b[0mfigsize\u001b[0m\u001b[1;33m=\u001b[0m\u001b[1;33m(\u001b[0m\u001b[1;36m20\u001b[0m\u001b[1;33m,\u001b[0m\u001b[1;36m5\u001b[0m\u001b[1;33m)\u001b[0m\u001b[1;33m)\u001b[0m\u001b[1;33m\u001b[0m\u001b[1;33m\u001b[0m\u001b[0m\n\u001b[0;32m      5\u001b[0m \u001b[0mplt\u001b[0m\u001b[1;33m.\u001b[0m\u001b[0mgrid\u001b[0m\u001b[1;33m(\u001b[0m\u001b[1;33m)\u001b[0m\u001b[1;33m\u001b[0m\u001b[1;33m\u001b[0m\u001b[0m\n\u001b[1;32m----> 6\u001b[1;33m \u001b[0mplt\u001b[0m\u001b[1;33m.\u001b[0m\u001b[0mplot\u001b[0m\u001b[1;33m(\u001b[0m\u001b[0mrange\u001b[0m\u001b[1;33m(\u001b[0m\u001b[1;36m1\u001b[0m\u001b[1;33m,\u001b[0m\u001b[1;36m181\u001b[0m\u001b[1;33m)\u001b[0m\u001b[1;33m,\u001b[0m\u001b[0mcvresult1\u001b[0m\u001b[1;33m.\u001b[0m\u001b[0miloc\u001b[0m\u001b[1;33m[\u001b[0m\u001b[1;33m:\u001b[0m\u001b[1;33m,\u001b[0m\u001b[1;36m0\u001b[0m\u001b[1;33m]\u001b[0m\u001b[1;33m,\u001b[0m\u001b[0mc\u001b[0m\u001b[1;33m=\u001b[0m\u001b[1;34m\"red\"\u001b[0m\u001b[1;33m,\u001b[0m\u001b[0mlabel\u001b[0m\u001b[1;33m=\u001b[0m\u001b[1;34m\"train,gamma=0\"\u001b[0m\u001b[1;33m)\u001b[0m\u001b[1;33m\u001b[0m\u001b[1;33m\u001b[0m\u001b[0m\n\u001b[0m\u001b[0;32m      7\u001b[0m \u001b[0mplt\u001b[0m\u001b[1;33m.\u001b[0m\u001b[0mplot\u001b[0m\u001b[1;33m(\u001b[0m\u001b[0mrange\u001b[0m\u001b[1;33m(\u001b[0m\u001b[1;36m1\u001b[0m\u001b[1;33m,\u001b[0m\u001b[1;36m181\u001b[0m\u001b[1;33m)\u001b[0m\u001b[1;33m,\u001b[0m\u001b[0mcvresult1\u001b[0m\u001b[1;33m.\u001b[0m\u001b[0miloc\u001b[0m\u001b[1;33m[\u001b[0m\u001b[1;33m:\u001b[0m\u001b[1;33m,\u001b[0m\u001b[1;36m2\u001b[0m\u001b[1;33m]\u001b[0m\u001b[1;33m,\u001b[0m\u001b[0mc\u001b[0m\u001b[1;33m=\u001b[0m\u001b[1;34m\"orange\"\u001b[0m\u001b[1;33m,\u001b[0m\u001b[0mlabel\u001b[0m\u001b[1;33m=\u001b[0m\u001b[1;34m\"test,gamma=0\"\u001b[0m\u001b[1;33m)\u001b[0m\u001b[1;33m\u001b[0m\u001b[1;33m\u001b[0m\u001b[0m\n\u001b[0;32m      8\u001b[0m \u001b[0mplt\u001b[0m\u001b[1;33m.\u001b[0m\u001b[0mlegend\u001b[0m\u001b[1;33m(\u001b[0m\u001b[1;33m)\u001b[0m\u001b[1;33m\u001b[0m\u001b[1;33m\u001b[0m\u001b[0m\n",
      "\u001b[1;32mD:\\anaconda\\envs\\py36\\lib\\site-packages\\matplotlib\\pyplot.py\u001b[0m in \u001b[0;36mplot\u001b[1;34m(scalex, scaley, data, *args, **kwargs)\u001b[0m\n\u001b[0;32m   2840\u001b[0m     return gca().plot(\n\u001b[0;32m   2841\u001b[0m         \u001b[1;33m*\u001b[0m\u001b[0margs\u001b[0m\u001b[1;33m,\u001b[0m \u001b[0mscalex\u001b[0m\u001b[1;33m=\u001b[0m\u001b[0mscalex\u001b[0m\u001b[1;33m,\u001b[0m \u001b[0mscaley\u001b[0m\u001b[1;33m=\u001b[0m\u001b[0mscaley\u001b[0m\u001b[1;33m,\u001b[0m\u001b[1;33m\u001b[0m\u001b[1;33m\u001b[0m\u001b[0m\n\u001b[1;32m-> 2842\u001b[1;33m         **({\"data\": data} if data is not None else {}), **kwargs)\n\u001b[0m\u001b[0;32m   2843\u001b[0m \u001b[1;33m\u001b[0m\u001b[0m\n\u001b[0;32m   2844\u001b[0m \u001b[1;33m\u001b[0m\u001b[0m\n",
      "\u001b[1;32mD:\\anaconda\\envs\\py36\\lib\\site-packages\\matplotlib\\axes\\_axes.py\u001b[0m in \u001b[0;36mplot\u001b[1;34m(self, scalex, scaley, data, *args, **kwargs)\u001b[0m\n\u001b[0;32m   1741\u001b[0m         \"\"\"\n\u001b[0;32m   1742\u001b[0m         \u001b[0mkwargs\u001b[0m \u001b[1;33m=\u001b[0m \u001b[0mcbook\u001b[0m\u001b[1;33m.\u001b[0m\u001b[0mnormalize_kwargs\u001b[0m\u001b[1;33m(\u001b[0m\u001b[0mkwargs\u001b[0m\u001b[1;33m,\u001b[0m \u001b[0mmlines\u001b[0m\u001b[1;33m.\u001b[0m\u001b[0mLine2D\u001b[0m\u001b[1;33m)\u001b[0m\u001b[1;33m\u001b[0m\u001b[1;33m\u001b[0m\u001b[0m\n\u001b[1;32m-> 1743\u001b[1;33m         \u001b[0mlines\u001b[0m \u001b[1;33m=\u001b[0m \u001b[1;33m[\u001b[0m\u001b[1;33m*\u001b[0m\u001b[0mself\u001b[0m\u001b[1;33m.\u001b[0m\u001b[0m_get_lines\u001b[0m\u001b[1;33m(\u001b[0m\u001b[1;33m*\u001b[0m\u001b[0margs\u001b[0m\u001b[1;33m,\u001b[0m \u001b[0mdata\u001b[0m\u001b[1;33m=\u001b[0m\u001b[0mdata\u001b[0m\u001b[1;33m,\u001b[0m \u001b[1;33m**\u001b[0m\u001b[0mkwargs\u001b[0m\u001b[1;33m)\u001b[0m\u001b[1;33m]\u001b[0m\u001b[1;33m\u001b[0m\u001b[1;33m\u001b[0m\u001b[0m\n\u001b[0m\u001b[0;32m   1744\u001b[0m         \u001b[1;32mfor\u001b[0m \u001b[0mline\u001b[0m \u001b[1;32min\u001b[0m \u001b[0mlines\u001b[0m\u001b[1;33m:\u001b[0m\u001b[1;33m\u001b[0m\u001b[1;33m\u001b[0m\u001b[0m\n\u001b[0;32m   1745\u001b[0m             \u001b[0mself\u001b[0m\u001b[1;33m.\u001b[0m\u001b[0madd_line\u001b[0m\u001b[1;33m(\u001b[0m\u001b[0mline\u001b[0m\u001b[1;33m)\u001b[0m\u001b[1;33m\u001b[0m\u001b[1;33m\u001b[0m\u001b[0m\n",
      "\u001b[1;32mD:\\anaconda\\envs\\py36\\lib\\site-packages\\matplotlib\\axes\\_base.py\u001b[0m in \u001b[0;36m__call__\u001b[1;34m(self, data, *args, **kwargs)\u001b[0m\n\u001b[0;32m    271\u001b[0m                 \u001b[0mthis\u001b[0m \u001b[1;33m+=\u001b[0m \u001b[0margs\u001b[0m\u001b[1;33m[\u001b[0m\u001b[1;36m0\u001b[0m\u001b[1;33m]\u001b[0m\u001b[1;33m,\u001b[0m\u001b[1;33m\u001b[0m\u001b[1;33m\u001b[0m\u001b[0m\n\u001b[0;32m    272\u001b[0m                 \u001b[0margs\u001b[0m \u001b[1;33m=\u001b[0m \u001b[0margs\u001b[0m\u001b[1;33m[\u001b[0m\u001b[1;36m1\u001b[0m\u001b[1;33m:\u001b[0m\u001b[1;33m]\u001b[0m\u001b[1;33m\u001b[0m\u001b[1;33m\u001b[0m\u001b[0m\n\u001b[1;32m--> 273\u001b[1;33m             \u001b[1;32myield\u001b[0m \u001b[1;32mfrom\u001b[0m \u001b[0mself\u001b[0m\u001b[1;33m.\u001b[0m\u001b[0m_plot_args\u001b[0m\u001b[1;33m(\u001b[0m\u001b[0mthis\u001b[0m\u001b[1;33m,\u001b[0m \u001b[0mkwargs\u001b[0m\u001b[1;33m)\u001b[0m\u001b[1;33m\u001b[0m\u001b[1;33m\u001b[0m\u001b[0m\n\u001b[0m\u001b[0;32m    274\u001b[0m \u001b[1;33m\u001b[0m\u001b[0m\n\u001b[0;32m    275\u001b[0m     \u001b[1;32mdef\u001b[0m \u001b[0mget_next_color\u001b[0m\u001b[1;33m(\u001b[0m\u001b[0mself\u001b[0m\u001b[1;33m)\u001b[0m\u001b[1;33m:\u001b[0m\u001b[1;33m\u001b[0m\u001b[1;33m\u001b[0m\u001b[0m\n",
      "\u001b[1;32mD:\\anaconda\\envs\\py36\\lib\\site-packages\\matplotlib\\axes\\_base.py\u001b[0m in \u001b[0;36m_plot_args\u001b[1;34m(self, tup, kwargs)\u001b[0m\n\u001b[0;32m    397\u001b[0m \u001b[1;33m\u001b[0m\u001b[0m\n\u001b[0;32m    398\u001b[0m         \u001b[1;32mif\u001b[0m \u001b[0mx\u001b[0m\u001b[1;33m.\u001b[0m\u001b[0mshape\u001b[0m\u001b[1;33m[\u001b[0m\u001b[1;36m0\u001b[0m\u001b[1;33m]\u001b[0m \u001b[1;33m!=\u001b[0m \u001b[0my\u001b[0m\u001b[1;33m.\u001b[0m\u001b[0mshape\u001b[0m\u001b[1;33m[\u001b[0m\u001b[1;36m0\u001b[0m\u001b[1;33m]\u001b[0m\u001b[1;33m:\u001b[0m\u001b[1;33m\u001b[0m\u001b[1;33m\u001b[0m\u001b[0m\n\u001b[1;32m--> 399\u001b[1;33m             raise ValueError(f\"x and y must have same first dimension, but \"\n\u001b[0m\u001b[0;32m    400\u001b[0m                              f\"have shapes {x.shape} and {y.shape}\")\n\u001b[0;32m    401\u001b[0m         \u001b[1;32mif\u001b[0m \u001b[0mx\u001b[0m\u001b[1;33m.\u001b[0m\u001b[0mndim\u001b[0m \u001b[1;33m>\u001b[0m \u001b[1;36m2\u001b[0m \u001b[1;32mor\u001b[0m \u001b[0my\u001b[0m\u001b[1;33m.\u001b[0m\u001b[0mndim\u001b[0m \u001b[1;33m>\u001b[0m \u001b[1;36m2\u001b[0m\u001b[1;33m:\u001b[0m\u001b[1;33m\u001b[0m\u001b[1;33m\u001b[0m\u001b[0m\n",
      "\u001b[1;31mValueError\u001b[0m: x and y must have same first dimension, but have shapes (180,) and (100,)"
     ]
    },
    {
     "data": {
      "image/png": "[encoded data removed]",
      "text/plain": [
       "<Figure size 1440x360 with 1 Axes>"
      ]
     },
     "metadata": {
      "needs_background": "light"
     },
     "output_type": "display_data"
    }
   ],
   "source": [
    "param1 = {'silent':True,'obj':'reg:linear',\"gamma\":0,\"eval_metric\":\"mae\"}\n",
    "cvresult1 = xgb.cv(param1, dfull, num_round,n_fold)\n",
    "\n",
    "plt.figure(figsize=(20,5))\n",
    "plt.grid()\n",
    "plt.plot(range(1,181),cvresult1.iloc[:,0],c=\"red\",label=\"train,gamma=0\")\n",
    "plt.plot(range(1,181),cvresult1.iloc[:,2],c=\"orange\",label=\"test,gamma=0\")\n",
    "plt.legend()\n",
    "plt.show()"
   ]
  },
  {
   "cell_type": "code",
   "execution_count": null,
   "metadata": {},
   "outputs": [
    {
     "name": "stdout",
     "output_type": "stream",
     "text": [
      "00:01:083104\n"
     ]
    }
   ],
   "source": [
    "param1 = {'silent':True,'obj':'reg:linear',\"gamma\":0}\n",
    "param2 = {'silent':True,'obj':'reg:linear',\"gamma\":20}\n",
    "num_round = 180\n",
    "n_fold=5\n",
    "\n",
    "time0 = time()\n",
    "cvresult1 = xgb.cv(param1, dfull, num_round,n_fold)\n",
    "print(datetime.datetime.fromtimestamp(time()-time0).strftime(\"%M:%S:%f\"))"
   ]
  },
  {
   "cell_type": "code",
   "execution_count": null,
   "metadata": {},
   "outputs": [
    {
     "name": "stdout",
     "output_type": "stream",
     "text": [
      "00:01:359378\n"
     ]
    }
   ],
   "source": [
    "time0 = time()\n",
    "cvresult2 = xgb.cv(param2, dfull, num_round,n_fold)\n",
    "print(datetime.datetime.fromtimestamp(time()-time0).strftime(\"%M:%S:%f\"))"
   ]
  },
  {
   "cell_type": "code",
   "execution_count": null,
   "metadata": {},
   "outputs": [
    {
     "data": {
      "image/png": "[encoded data removed]",
      "text/plain": [
       "<Figure size 1440x360 with 1 Axes>"
      ]
     },
     "metadata": {
      "needs_background": "light"
     },
     "output_type": "display_data"
    }
   ],
   "source": [
    "plt.figure(figsize=(20,5))\n",
    "plt.grid()\n",
    "plt.plot(range(1,181),cvresult1.iloc[:,0],c=\"red\",label=\"train,gamma=0\")\n",
    "plt.plot(range(1,181),cvresult1.iloc[:,2],c=\"orange\",label=\"test,gamma=0\")\n",
    "plt.plot(range(1,181),cvresult2.iloc[:,0],c=\"green\",label=\"train,gamma=20\")\n",
    "plt.plot(range(1,181),cvresult2.iloc[:,2],c=\"blue\",label=\"test,gamma=20\")\n",
    "plt.legend()\n",
    "plt.show()\n",
    "\n",
    "#从这里，你看出gamma是如何控制过拟合了吗？控制训练集上的训练 - 降低训练集上的表现"
   ]
  },
  {
   "cell_type": "code",
   "execution_count": null,
   "metadata": {},
   "outputs": [],
   "source": [
    "import xgboost as xgb\n",
    "import matplotlib.pyplot as plt\n",
    "from time import time\n",
    "import datetime"
   ]
  },
  {
   "cell_type": "code",
   "execution_count": null,
   "metadata": {},
   "outputs": [],
   "source": [
    "from sklearn.datasets import load_breast_cancer\n",
    "data2 = load_breast_cancer()\n",
    "\n",
    "x2 = data2.data\n",
    "y2 = data2.target\n",
    "\n",
    "dfull2 = xgb.DMatrix(x2,y2)\n",
    "\n",
    "param1 = {'silent':True,'obj':'binary:logistic',\"gamma\":0,\"nfold\":5\n",
    "          ,\"eval_metrics\":\"error\"\n",
    "         }\n",
    "param2 = {'silent':True,'obj':'binary:logistic',\"gamma\":1,\"nfold\":5}\n",
    "num_round = 100"
   ]
  },
  {
   "cell_type": "code",
   "execution_count": null,
   "metadata": {},
   "outputs": [
    {
     "name": "stdout",
     "output_type": "stream",
     "text": [
      "00:00:271581\n"
     ]
    }
   ],
   "source": [
    "time0 = time()\n",
    "cvresult1 = xgb.cv(param1, dfull2, num_round,metrics=(\"error\"))\n",
    "print(datetime.datetime.fromtimestamp(time()-time0).strftime(\"%M:%S:%f\"))"
   ]
  },
  {
   "cell_type": "code",
   "execution_count": null,
   "metadata": {},
   "outputs": [
    {
     "name": "stdout",
     "output_type": "stream",
     "text": [
      "00:00:443810\n"
     ]
    }
   ],
   "source": [
    "time0 = time()\n",
    "cvresult2 = xgb.cv(param2, dfull2, num_round,metrics=(\"error\")) \n",
    "print(datetime.datetime.fromtimestamp(time()-time0).strftime(\"%M:%S:%f\"))"
   ]
  },
  {
   "cell_type": "code",
   "execution_count": null,
   "metadata": {},
   "outputs": [
    {
     "data": {
      "image/png": "[encoded data removed]",
      "text/plain": [
       "<Figure size 1440x360 with 1 Axes>"
      ]
     },
     "metadata": {
      "needs_background": "light"
     },
     "output_type": "display_data"
    }
   ],
   "source": [
    "plt.figure(figsize=(20,5))\n",
    "plt.grid()\n",
    "plt.plot(range(1,101),cvresult1.iloc[:,0],c=\"red\",label=\"train,gamma=0\")\n",
    "plt.plot(range(1,101),cvresult1.iloc[:,2],c=\"orange\",label=\"test,gamma=0\")\n",
    "plt.plot(range(1,101),cvresult2.iloc[:,0],c=\"green\",label=\"train,gamma=1\")\n",
    "plt.plot(range(1,101),cvresult2.iloc[:,2],c=\"blue\",label=\"test,gamma=1\")\n",
    "plt.legend()\n",
    "plt.show()"
   ]
  },
  {
   "cell_type": "code",
   "execution_count": null,
   "metadata": {},
   "outputs": [],
   "source": [
    "dfull = xgb.DMatrix(X,y)\n",
    "\n",
    "param1 = {'silent':True\n",
    "          ,'obj':'reg:linear'\n",
    "          ,\"subsample\":1\n",
    "          ,\"max_depth\":6\n",
    "          ,\"eta\":0.3\n",
    "          ,\"gamma\":0\n",
    "          ,\"lambda\":1\n",
    "          ,\"alpha\":0\n",
    "          ,\"colsample_bytree\":1\n",
    "          ,\"colsample_bylevel\":1\n",
    "          ,\"colsample_bynode\":1\n",
    "          ,\"nfold\":5}\n",
    "num_round = 200"
   ]
  },
  {
   "cell_type": "code",
   "execution_count": null,
   "metadata": {},
   "outputs": [
    {
     "name": "stdout",
     "output_type": "stream",
     "text": [
      "00:00:513584\n"
     ]
    },
    {
     "data": {
      "image/png": "[encoded data removed]",
      "text/plain": [
       "<Figure size 1080x576 with 1 Axes>"
      ]
     },
     "metadata": {
      "needs_background": "light"
     },
     "output_type": "display_data"
    }
   ],
   "source": [
    "time0 = time()\n",
    "cvresult1 = xgb.cv(param1, dfull, num_round)\n",
    "print(datetime.datetime.fromtimestamp(time()-time0).strftime(\"%M:%S:%f\"))\n",
    "\n",
    "fig,ax = plt.subplots(1,figsize=(15,8))\n",
    "ax.set_ylim(top=5)\n",
    "ax.grid()\n",
    "ax.plot(range(1,201),cvresult1.iloc[:,0],c=\"red\",label=\"train,original\")\n",
    "ax.plot(range(1,201),cvresult1.iloc[:,2],c=\"orange\",label=\"test,original\")\n",
    "ax.legend(fontsize=\"xx-large\")\n",
    "plt.show()"
   ]
  },
  {
   "cell_type": "code",
   "execution_count": null,
   "metadata": {},
   "outputs": [
    {
     "name": "stdout",
     "output_type": "stream",
     "text": [
      "00:00:532621\n",
      "00:00:223373\n",
      "00:00:259346\n"
     ]
    },
    {
     "data": {
      "image/png": "[encoded data removed]",
      "text/plain": [
       "<Figure size 1080x576 with 1 Axes>"
      ]
     },
     "metadata": {
      "needs_background": "light"
     },
     "output_type": "display_data"
    }
   ],
   "source": [
    "param1 = {'silent':True\n",
    "          ,'obj':'reg:linear'\n",
    "          ,\"subsample\":1\n",
    "          ,\"max_depth\":6\n",
    "          ,\"eta\":0.3\n",
    "          ,\"gamma\":0\n",
    "          ,\"lambda\":1\n",
    "          ,\"alpha\":0\n",
    "          ,\"colsample_bytree\":1\n",
    "          ,\"colsample_bylevel\":1\n",
    "          ,\"colsample_bynode\":1\n",
    "          ,\"nfold\":5}\n",
    "num_round = 200\n",
    "\n",
    "time0 = time()\n",
    "cvresult1 = xgb.cv(param1, dfull, num_round)\n",
    "print(datetime.datetime.fromtimestamp(time()-time0).strftime(\"%M:%S:%f\"))\n",
    "\n",
    "fig,ax = plt.subplots(1,figsize=(15,8))\n",
    "ax.set_ylim(top=5)\n",
    "ax.grid()\n",
    "ax.plot(range(1,201),cvresult1.iloc[:,0],c=\"red\",label=\"train,original\")\n",
    "ax.plot(range(1,201),cvresult1.iloc[:,2],c=\"orange\",label=\"test,original\")\n",
    "\n",
    "param2 = {'silent':True\n",
    "          ,'obj':'reg:linear'\n",
    "          ,\"max_depth\":2\n",
    "          ,\"eta\":0.05\n",
    "          ,\"gamma\":0\n",
    "          ,\"lambda\":1\n",
    "          ,\"alpha\":0\n",
    "          ,\"colsample_bytree\":1\n",
    "          ,\"colsample_bylevel\":0.4\n",
    "          ,\"colsample_bynode\":1\n",
    "          ,\"nfold\":5}\n",
    "\n",
    "param3 = {'silent':True\n",
    "          ,'obj':'reg:linear'\n",
    "          ,\"subsample\":1\n",
    "          ,\"eta\":0.05\n",
    "          ,\"gamma\":20\n",
    "          ,\"lambda\":3.5\n",
    "          ,\"alpha\":0.2\n",
    "          ,\"max_depth\":4\n",
    "          ,\"colsample_bytree\":0.4\n",
    "          ,\"colsample_bylevel\":0.6\n",
    "          ,\"colsample_bynode\":1\n",
    "          ,\"nfold\":5}\n",
    "\n",
    "time0 = time()\n",
    "cvresult2 = xgb.cv(param2, dfull, num_round)\n",
    "print(datetime.datetime.fromtimestamp(time()-time0).strftime(\"%M:%S:%f\"))\n",
    "\n",
    "time0 = time()\n",
    "cvresult3 = xgb.cv(param3, dfull, num_round)\n",
    "print(datetime.datetime.fromtimestamp(time()-time0).strftime(\"%M:%S:%f\"))\n",
    "\n",
    "ax.plot(range(1,201),cvresult2.iloc[:,0],c=\"green\",label=\"train,last\")\n",
    "ax.plot(range(1,201),cvresult2.iloc[:,2],c=\"blue\",label=\"test,last\")\n",
    "ax.plot(range(1,201),cvresult3.iloc[:,0],c=\"gray\",label=\"train,this\")\n",
    "ax.plot(range(1,201),cvresult3.iloc[:,2],c=\"pink\",label=\"test,this\")\n",
    "ax.legend(fontsize=\"xx-large\")\n",
    "plt.show()"
   ]
  },
  {
   "cell_type": "code",
   "execution_count": null,
   "metadata": {},
   "outputs": [],
   "source": [
    "import pickle"
   ]
  },
  {
   "cell_type": "code",
   "execution_count": null,
   "metadata": {},
   "outputs": [],
   "source": [
    "dtrain = xgb.DMatrix(Xtrain,Ytrain)\n",
    "\n",
    "#设定参数，对模型进行训练\n",
    "param = {'silent':True\n",
    "          ,'obj':'reg:linear'\n",
    "          ,\"subsample\":1\n",
    "          ,\"eta\":0.05\n",
    "          ,\"gamma\":20\n",
    "          ,\"lambda\":3.5\n",
    "          ,\"alpha\":0.2\n",
    "          ,\"max_depth\":4\n",
    "          ,\"colsample_bytree\":0.4\n",
    "          ,\"colsample_bylevel\":0.6\n",
    "          ,\"colsample_bynode\":1}\n",
    "num_round = 180\n",
    "\n",
    "bst = xgb.train(param, dtrain, num_round)"
   ]
  },
  {
   "cell_type": "code",
   "execution_count": null,
   "metadata": {},
   "outputs": [],
   "source": [
    "#保存模型\n",
    "pickle.dump(bst, open(\"xgboostonboston.dat\",\"wb\"))\n",
    "\n",
    "#注意，open中我们往往使用w或者r作为读取的模式，但其实w与r只能用于文本文件 - txt\n",
    "#当我们希望导入的不是文本文件，而是模型本身的时候，我们使用\"wb\"和\"rb\"作为读取的模式\n",
    "#其中wb表示以二进制写入，rb表示以二进制读入，使用open进行保存的这个文件中是一个可以进行读取或者调用的模型"
   ]
  },
  {
   "cell_type": "code",
   "execution_count": null,
   "metadata": {},
   "outputs": [
    {
     "data": {
      "text/plain": [
       "['C:\\\\Pythonwork\\\\micro-class\\\\11 xgboost',\n",
       " 'C:\\\\Python\\\\python37.zip',\n",
       " 'C:\\\\Python\\\\DLLs',\n",
       " 'C:\\\\Python\\\\lib',\n",
       " 'C:\\\\Python',\n",
       " '',\n",
       " 'C:\\\\Python\\\\lib\\\\site-packages',\n",
       " 'C:\\\\Python\\\\lib\\\\site-packages\\\\win32',\n",
       " 'C:\\\\Python\\\\lib\\\\site-packages\\\\win32\\\\lib',\n",
       " 'C:\\\\Python\\\\lib\\\\site-packages\\\\Pythonwin',\n",
       " 'C:\\\\Python\\\\lib\\\\site-packages\\\\IPython\\\\extensions',\n",
       " 'C:\\\\Users\\\\Shuyu\\\\.ipython']"
      ]
     },
     "execution_count": 23,
     "metadata": {},
     "output_type": "execute_result"
    }
   ],
   "source": [
    "#看看模型被保存到了哪里？\n",
    "import sys\n",
    "sys.path"
   ]
  },
  {
   "cell_type": "code",
   "execution_count": null,
   "metadata": {},
   "outputs": [],
   "source": [
    "#重新打开jupyter lab\n",
    "\n",
    "from sklearn.datasets import load_boston\n",
    "from sklearn.model_selection import train_test_split as TTS\n",
    "from sklearn.metrics import mean_squared_error as MSE\n",
    "import pickle\n",
    "import xgboost as xgb\n",
    "\n",
    "data = load_boston()\n",
    "\n",
    "X = data.data\n",
    "y = data.target\n",
    "\n",
    "Xtrain,Xtest,Ytrain,Ytest = TTS(X,y,test_size=0.3,random_state=420)"
   ]
  },
  {
   "cell_type": "code",
   "execution_count": null,
   "metadata": {},
   "outputs": [],
   "source": [
    "#注意，如果我们保存的模型是xgboost库中建立的模型，则导入的数据类型也必须是xgboost库中的数据类型\n",
    "dtest = xgb.DMatrix(Xtest,Ytest)"
   ]
  },
  {
   "cell_type": "code",
   "execution_count": null,
   "metadata": {},
   "outputs": [
    {
     "name": "stdout",
     "output_type": "stream",
     "text": [
      "Loaded model from: xgboostonboston.dat\n"
     ]
    }
   ],
   "source": [
    "#导入模型\n",
    "loaded_model = pickle.load(open(\"xgboostonboston.dat\", \"rb\"))\n",
    "print(\"Loaded model from: xgboostonboston.dat\")"
   ]
  },
  {
   "cell_type": "code",
   "execution_count": null,
   "metadata": {},
   "outputs": [],
   "source": [
    "#做预测，直接调用接口predict\n",
    "ypreds = loaded_model.predict(dtest)"
   ]
  },
  {
   "cell_type": "code",
   "execution_count": null,
   "metadata": {},
   "outputs": [
    {
     "data": {
      "text/plain": [
       "array([ 9.244746, 22.536953, 28.47614 , 13.126131,  9.944413, 21.356094,\n",
       "       15.187935, 15.559099, 15.629611, 15.555439, 21.427156, 35.502792,\n",
       "       20.827318, 29.397932, 21.669186, 11.906522, 21.464252, 26.143337,\n",
       "       26.300356, 23.474188, 18.186035, 15.851086, 22.928507, 22.919674,\n",
       "       20.557487, 16.27315 , 22.000988, 25.230766, 23.12165 , 16.663473,\n",
       "       34.747093, 20.003593, 20.617601, 23.74025 , 23.044952, 24.849056,\n",
       "       15.414761, 23.383522, 18.500463, 33.790466, 18.009186, 18.729418,\n",
       "       33.181175, 18.834534, 15.085677, 27.601177, 42.75243 , 15.359873,\n",
       "       10.37829 , 37.5367  , 27.097404, 20.73775 , 20.198935, 46.20087 ,\n",
       "       26.959623, 24.566458, 18.678255, 20.913795, 17.369501, 17.823708,\n",
       "       15.136806, 24.533068, 19.465569, 30.474009, 29.571526, 19.773672,\n",
       "       21.554045, 17.590807, 22.250225, 18.275839, 29.012346, 40.198055,\n",
       "       30.235825, 23.174484, 20.191778, 23.742437, 38.217915, 27.173447,\n",
       "       21.068003, 20.5974  , 18.412853, 45.326836, 22.941956,  9.055015,\n",
       "       27.04054 , 23.45833 , 17.310354, 20.762442, 15.6619  , 12.178641,\n",
       "       21.293903, 19.826134, 41.0362  , 31.300192, 24.400661, 11.267941,\n",
       "       15.763796, 20.984198,  9.232577, 11.090055, 32.739227, 16.265066,\n",
       "       24.975492, 24.905188, 34.348663, 41.02216 , 20.181097,  8.897793,\n",
       "       22.894953, 15.023113, 45.222473, 21.289068, 22.882399, 24.792355,\n",
       "       19.141815, 27.372849, 24.132881, 19.243576, 43.235798, 17.438314,\n",
       "       24.561804, 24.187195, 17.001463, 18.172377, 15.483843, 23.802166,\n",
       "       31.079023, 10.322498, 21.977345, 19.267714, 15.559681, 19.336842,\n",
       "        8.979549, 28.35794 , 29.80491 , 21.987814, 19.893597, 19.730898,\n",
       "       10.501988, 17.405378, 40.51527 , 17.420282, 24.272373, 19.771631,\n",
       "       32.620422, 19.19032 , 12.364113, 38.63305 , 24.189354, 23.38174 ,\n",
       "       16.924698, 22.633028], dtype=float32)"
      ]
     },
     "execution_count": 28,
     "metadata": {},
     "output_type": "execute_result"
    }
   ],
   "source": [
    "ypreds"
   ]
  },
  {
   "cell_type": "code",
   "execution_count": null,
   "metadata": {},
   "outputs": [
    {
     "data": {
      "text/plain": [
       "9.107608696116197"
      ]
     },
     "execution_count": 31,
     "metadata": {},
     "output_type": "execute_result"
    }
   ],
   "source": [
    "from sklearn.metrics import mean_squared_error as MSE, r2_score\n",
    "MSE(Ytest,ypreds)"
   ]
  },
  {
   "cell_type": "code",
   "execution_count": null,
   "metadata": {},
   "outputs": [
    {
     "data": {
      "text/plain": [
       "0.9021254331073938"
      ]
     },
     "execution_count": 32,
     "metadata": {},
     "output_type": "execute_result"
    }
   ],
   "source": [
    "r2_score(Ytest,ypreds)"
   ]
  },
  {
   "cell_type": "code",
   "execution_count": null,
   "metadata": {},
   "outputs": [],
   "source": [
    "bst = xgb.train(param, dtrain, num_round)"
   ]
  },
  {
   "cell_type": "code",
   "execution_count": null,
   "metadata": {},
   "outputs": [
    {
     "data": {
      "text/plain": [
       "['xgboost-boston.dat']"
      ]
     },
     "execution_count": 34,
     "metadata": {},
     "output_type": "execute_result"
    }
   ],
   "source": [
    "import joblib\n",
    "\n",
    "#同样可以看看模型被保存到了哪里\n",
    "joblib.dump(bst,\"xgboost-boston.dat\")"
   ]
  },
  {
   "cell_type": "code",
   "execution_count": null,
   "metadata": {},
   "outputs": [],
   "source": [
    "loaded_model = joblib.load(\"xgboost-boston.dat\")"
   ]
  },
  {
   "cell_type": "code",
   "execution_count": null,
   "metadata": {},
   "outputs": [],
   "source": [
    "dtest = xgb.DMatrix(Xtest,Ytest)\n",
    "ypreds = loaded_model.predict(dtest)"
   ]
  },
  {
   "cell_type": "code",
   "execution_count": null,
   "metadata": {},
   "outputs": [
    {
     "data": {
      "text/plain": [
       "array([ 9.244746, 22.536953, 28.47614 , 13.126131,  9.944413, 21.356094,\n",
       "       15.187935, 15.559099, 15.629611, 15.555439, 21.427156, 35.502792,\n",
       "       20.827318, 29.397932, 21.669186, 11.906522, 21.464252, 26.143337,\n",
       "       26.300356, 23.474188, 18.186035, 15.851086, 22.928507, 22.919674,\n",
       "       20.557487, 16.27315 , 22.000988, 25.230766, 23.12165 , 16.663473,\n",
       "       34.747093, 20.003593, 20.617601, 23.74025 , 23.044952, 24.849056,\n",
       "       15.414761, 23.383522, 18.500463, 33.790466, 18.009186, 18.729418,\n",
       "       33.181175, 18.834534, 15.085677, 27.601177, 42.75243 , 15.359873,\n",
       "       10.37829 , 37.5367  , 27.097404, 20.73775 , 20.198935, 46.20087 ,\n",
       "       26.959623, 24.566458, 18.678255, 20.913795, 17.369501, 17.823708,\n",
       "       15.136806, 24.533068, 19.465569, 30.474009, 29.571526, 19.773672,\n",
       "       21.554045, 17.590807, 22.250225, 18.275839, 29.012346, 40.198055,\n",
       "       30.235825, 23.174484, 20.191778, 23.742437, 38.217915, 27.173447,\n",
       "       21.068003, 20.5974  , 18.412853, 45.326836, 22.941956,  9.055015,\n",
       "       27.04054 , 23.45833 , 17.310354, 20.762442, 15.6619  , 12.178641,\n",
       "       21.293903, 19.826134, 41.0362  , 31.300192, 24.400661, 11.267941,\n",
       "       15.763796, 20.984198,  9.232577, 11.090055, 32.739227, 16.265066,\n",
       "       24.975492, 24.905188, 34.348663, 41.02216 , 20.181097,  8.897793,\n",
       "       22.894953, 15.023113, 45.222473, 21.289068, 22.882399, 24.792355,\n",
       "       19.141815, 27.372849, 24.132881, 19.243576, 43.235798, 17.438314,\n",
       "       24.561804, 24.187195, 17.001463, 18.172377, 15.483843, 23.802166,\n",
       "       31.079023, 10.322498, 21.977345, 19.267714, 15.559681, 19.336842,\n",
       "        8.979549, 28.35794 , 29.80491 , 21.987814, 19.893597, 19.730898,\n",
       "       10.501988, 17.405378, 40.51527 , 17.420282, 24.272373, 19.771631,\n",
       "       32.620422, 19.19032 , 12.364113, 38.63305 , 24.189354, 23.38174 ,\n",
       "       16.924698, 22.633028], dtype=float32)"
      ]
     },
     "execution_count": 37,
     "metadata": {},
     "output_type": "execute_result"
    }
   ],
   "source": [
    "ypreds"
   ]
  },
  {
   "cell_type": "code",
   "execution_count": null,
   "metadata": {},
   "outputs": [
    {
     "data": {
      "text/plain": [
       "9.107608696116197"
      ]
     },
     "execution_count": 38,
     "metadata": {},
     "output_type": "execute_result"
    }
   ],
   "source": [
    "MSE(Ytest, ypreds)"
   ]
  },
  {
   "cell_type": "code",
   "execution_count": null,
   "metadata": {},
   "outputs": [
    {
     "data": {
      "text/plain": [
       "0.9021254331073938"
      ]
     },
     "execution_count": 39,
     "metadata": {},
     "output_type": "execute_result"
    }
   ],
   "source": [
    "r2_score(Ytest,ypreds)"
   ]
  },
  {
   "cell_type": "code",
   "execution_count": null,
   "metadata": {},
   "outputs": [],
   "source": [
    "#使用sklearn中的模型\n",
    "from xgboost import XGBRegressor as XGBR\n",
    "\n",
    "bst = XGBR(n_estimators=200\n",
    "           ,eta=0.05,gamma=20\n",
    "           ,reg_lambda=3.5\n",
    "           ,reg_alpha=0.2\n",
    "           ,max_depth=4\n",
    "           ,colsample_bytree=0.4\n",
    "           ,colsample_bylevel=0.6).fit(Xtrain,Ytrain) #训练完毕"
   ]
  },
  {
   "cell_type": "code",
   "execution_count": null,
   "metadata": {},
   "outputs": [
    {
     "data": {
      "text/plain": [
       "['xgboost-boston-sklearn.dat']"
      ]
     },
     "execution_count": 41,
     "metadata": {},
     "output_type": "execute_result"
    }
   ],
   "source": [
    "joblib.dump(bst,\"xgboost-boston-sklearn.dat\")"
   ]
  },
  {
   "cell_type": "code",
   "execution_count": null,
   "metadata": {},
   "outputs": [],
   "source": [
    "loaded_model = joblib.load(\"xgboost-boston-sklearn.dat\")"
   ]
  },
  {
   "cell_type": "code",
   "execution_count": null,
   "metadata": {},
   "outputs": [],
   "source": [
    "#则这里可以直接导入Xtest,直接是我们的numpy\n",
    "ypreds = loaded_model.predict(Xtest)"
   ]
  },
  {
   "cell_type": "code",
   "execution_count": null,
   "metadata": {},
   "outputs": [
    {
     "data": {
      "text/plain": [
       "array([[4.15292e+01, 0.00000e+00, 1.81000e+01, ..., 2.02000e+01,\n",
       "        3.29460e+02, 2.73800e+01],\n",
       "       [2.73100e-02, 0.00000e+00, 7.07000e+00, ..., 1.78000e+01,\n",
       "        3.96900e+02, 9.14000e+00],\n",
       "       [3.15000e-02, 9.50000e+01, 1.47000e+00, ..., 1.70000e+01,\n",
       "        3.96900e+02, 4.56000e+00],\n",
       "       ...,\n",
       "       [5.08300e-02, 0.00000e+00, 5.19000e+00, ..., 2.02000e+01,\n",
       "        3.89710e+02, 5.68000e+00],\n",
       "       [3.77498e+00, 0.00000e+00, 1.81000e+01, ..., 2.02000e+01,\n",
       "        2.20100e+01, 1.71500e+01],\n",
       "       [1.96091e+01, 0.00000e+00, 1.81000e+01, ..., 2.02000e+01,\n",
       "        3.96900e+02, 1.34400e+01]])"
      ]
     },
     "execution_count": 44,
     "metadata": {},
     "output_type": "execute_result"
    }
   ],
   "source": [
    "Xtest"
   ]
  },
  {
   "cell_type": "code",
   "execution_count": null,
   "metadata": {},
   "outputs": [
    {
     "data": {
      "text/plain": [
       "<xgboost.core.DMatrix at 0x29e30670668>"
      ]
     },
     "execution_count": 45,
     "metadata": {},
     "output_type": "execute_result"
    }
   ],
   "source": [
    "dtest"
   ]
  },
  {
   "cell_type": "code",
   "execution_count": null,
   "metadata": {},
   "outputs": [
    {
     "data": {
      "text/plain": [
       "array([ 9.350334 , 21.501623 , 30.219057 , 13.021226 ,  9.883689 ,\n",
       "       20.977922 , 16.023008 , 15.8910475, 15.512305 , 15.706607 ,\n",
       "       22.096102 , 35.381573 , 20.3307   , 27.129421 , 19.997156 ,\n",
       "       10.935587 , 20.25071  , 26.188572 , 26.711943 , 22.600443 ,\n",
       "       18.23832  , 15.876045 , 26.263977 , 22.706024 , 20.18491  ,\n",
       "       15.891692 , 21.4781   , 29.047956 , 23.371012 , 17.167185 ,\n",
       "       35.699898 , 20.490337 , 20.195292 , 23.81444  , 23.106022 ,\n",
       "       25.709312 , 15.0182905, 22.621248 , 18.576109 , 34.25664  ,\n",
       "       17.46115  , 19.159126 , 34.79234  , 17.766731 , 17.141891 ,\n",
       "       27.755646 , 39.786766 , 22.49913  , 10.246634 , 36.76105  ,\n",
       "       26.294876 , 20.75917  , 19.893272 , 46.62629  , 26.549704 ,\n",
       "       24.040398 , 17.769514 , 20.76889  , 16.139618 , 17.494894 ,\n",
       "       16.005596 , 24.28487  , 19.15237  , 31.407684 , 27.862312 ,\n",
       "       18.877817 , 20.50497  , 16.094156 , 22.622025 , 17.762297 ,\n",
       "       28.518019 , 41.146317 , 32.52681  , 23.117966 , 19.125128 ,\n",
       "       24.141544 , 39.041847 , 25.901724 , 20.974117 , 19.626917 ,\n",
       "       18.567612 , 46.46465  , 23.03303  ,  9.912106 , 26.407642 ,\n",
       "       23.466772 , 16.985506 , 20.73746  , 15.679997 , 11.697191 ,\n",
       "       21.320868 , 20.333689 , 41.616425 , 31.659132 , 25.605923 ,\n",
       "       12.362759 , 14.593165 , 20.577328 ,  9.253377 , 11.1253805,\n",
       "       32.878246 , 15.840851 , 24.695955 , 24.882996 , 34.643425 ,\n",
       "       41.556873 , 19.726238 ,  8.808649 , 23.04128  , 14.709186 ,\n",
       "       46.10303  , 21.435535 , 21.97892  , 24.299171 , 19.591938 ,\n",
       "       27.527737 , 23.80468  , 18.782711 , 44.266346 , 17.328068 ,\n",
       "       23.030151 , 23.801643 , 16.483137 , 18.219353 , 15.713125 ,\n",
       "       23.655058 , 32.294373 , 10.60579  , 22.099716 , 19.26955  ,\n",
       "       14.293162 , 19.386055 ,  8.824598 , 26.909697 , 29.539446 ,\n",
       "       20.38691  , 20.832077 , 22.507433 , 11.142808 , 17.685743 ,\n",
       "       40.230915 , 17.526121 , 23.09964  , 19.899158 , 31.775164 ,\n",
       "       19.718151 , 12.164877 , 40.867558 , 24.465397 , 22.134802 ,\n",
       "       15.041253 , 28.63522  ], dtype=float32)"
      ]
     },
     "execution_count": 46,
     "metadata": {},
     "output_type": "execute_result"
    }
   ],
   "source": [
    "ypreds"
   ]
  },
  {
   "cell_type": "code",
   "execution_count": null,
   "metadata": {},
   "outputs": [
    {
     "data": {
      "text/plain": [
       "10.198269690947479"
      ]
     },
     "execution_count": 47,
     "metadata": {},
     "output_type": "execute_result"
    }
   ],
   "source": [
    "MSE(Ytest, ypreds)"
   ]
  },
  {
   "cell_type": "code",
   "execution_count": null,
   "metadata": {},
   "outputs": [
    {
     "data": {
      "text/plain": [
       "0.8904046866351292"
      ]
     },
     "execution_count": 48,
     "metadata": {},
     "output_type": "execute_result"
    }
   ],
   "source": [
    "r2_score(Ytest,ypreds)"
   ]
  },
  {
   "cell_type": "code",
   "execution_count": null,
   "metadata": {},
   "outputs": [],
   "source": [
    "import numpy as np\n",
    "import xgboost as xgb\n",
    "import matplotlib.pyplot as plt\n",
    "from xgboost import XGBClassifier as XGBC\n",
    "from sklearn.datasets import make_blobs #自创数据集\n",
    "from sklearn.model_selection import train_test_split as TTS\n",
    "from sklearn.metrics import confusion_matrix as cm, recall_score as recall, roc_auc_score as auc"
   ]
  },
  {
   "cell_type": "code",
   "execution_count": null,
   "metadata": {},
   "outputs": [],
   "source": [
    "class_1 = 500 #类别1有500个样本\n",
    "class_2 = 50 #类别2只有50个\n",
    "centers = [[0.0, 0.0], [2.0, 2.0]] #设定两个类别的中心\n",
    "clusters_std = [1.5, 0.5] #设定两个类别的方差，通常来说，样本量比较大的类别会更加松散\n",
    "X, y = make_blobs(n_samples=[class_1, class_2],\n",
    "                  centers=centers,\n",
    "                  cluster_std=clusters_std,\n",
    "                  random_state=0, shuffle=False)"
   ]
  },
  {
   "cell_type": "code",
   "execution_count": null,
   "metadata": {},
   "outputs": [
    {
     "data": {
      "text/plain": [
       "(550, 2)"
      ]
     },
     "execution_count": 18,
     "metadata": {},
     "output_type": "execute_result"
    }
   ],
   "source": [
    "X.shape"
   ]
  },
  {
   "cell_type": "code",
   "execution_count": null,
   "metadata": {},
   "outputs": [
    {
     "data": {
      "text/plain": [
       "array([0, 0, 0, 0, 0, 0, 0, 0, 0, 0, 0, 0, 0, 0, 0, 0, 0, 0, 0, 0, 0, 0,\n",
       "       0, 0, 0, 0, 0, 0, 0, 0, 0, 0, 0, 0, 0, 0, 0, 0, 0, 0, 0, 0, 0, 0,\n",
       "       0, 0, 0, 0, 0, 0, 0, 0, 0, 0, 0, 0, 0, 0, 0, 0, 0, 0, 0, 0, 0, 0,\n",
       "       0, 0, 0, 0, 0, 0, 0, 0, 0, 0, 0, 0, 0, 0, 0, 0, 0, 0, 0, 0, 0, 0,\n",
       "       0, 0, 0, 0, 0, 0, 0, 0, 0, 0, 0, 0, 0, 0, 0, 0, 0, 0, 0, 0, 0, 0,\n",
       "       0, 0, 0, 0, 0, 0, 0, 0, 0, 0, 0, 0, 0, 0, 0, 0, 0, 0, 0, 0, 0, 0,\n",
       "       0, 0, 0, 0, 0, 0, 0, 0, 0, 0, 0, 0, 0, 0, 0, 0, 0, 0, 0, 0, 0, 0,\n",
       "       0, 0, 0, 0, 0, 0, 0, 0, 0, 0, 0, 0, 0, 0, 0, 0, 0, 0, 0, 0, 0, 0,\n",
       "       0, 0, 0, 0, 0, 0, 0, 0, 0, 0, 0, 0, 0, 0, 0, 0, 0, 0, 0, 0, 0, 0,\n",
       "       0, 0, 0, 0, 0, 0, 0, 0, 0, 0, 0, 0, 0, 0, 0, 0, 0, 0, 0, 0, 0, 0,\n",
       "       0, 0, 0, 0, 0, 0, 0, 0, 0, 0, 0, 0, 0, 0, 0, 0, 0, 0, 0, 0, 0, 0,\n",
       "       0, 0, 0, 0, 0, 0, 0, 0, 0, 0, 0, 0, 0, 0, 0, 0, 0, 0, 0, 0, 0, 0,\n",
       "       0, 0, 0, 0, 0, 0, 0, 0, 0, 0, 0, 0, 0, 0, 0, 0, 0, 0, 0, 0, 0, 0,\n",
       "       0, 0, 0, 0, 0, 0, 0, 0, 0, 0, 0, 0, 0, 0, 0, 0, 0, 0, 0, 0, 0, 0,\n",
       "       0, 0, 0, 0, 0, 0, 0, 0, 0, 0, 0, 0, 0, 0, 0, 0, 0, 0, 0, 0, 0, 0,\n",
       "       0, 0, 0, 0, 0, 0, 0, 0, 0, 0, 0, 0, 0, 0, 0, 0, 0, 0, 0, 0, 0, 0,\n",
       "       0, 0, 0, 0, 0, 0, 0, 0, 0, 0, 0, 0, 0, 0, 0, 0, 0, 0, 0, 0, 0, 0,\n",
       "       0, 0, 0, 0, 0, 0, 0, 0, 0, 0, 0, 0, 0, 0, 0, 0, 0, 0, 0, 0, 0, 0,\n",
       "       0, 0, 0, 0, 0, 0, 0, 0, 0, 0, 0, 0, 0, 0, 0, 0, 0, 0, 0, 0, 0, 0,\n",
       "       0, 0, 0, 0, 0, 0, 0, 0, 0, 0, 0, 0, 0, 0, 0, 0, 0, 0, 0, 0, 0, 0,\n",
       "       0, 0, 0, 0, 0, 0, 0, 0, 0, 0, 0, 0, 0, 0, 0, 0, 0, 0, 0, 0, 0, 0,\n",
       "       0, 0, 0, 0, 0, 0, 0, 0, 0, 0, 0, 0, 0, 0, 0, 0, 0, 0, 0, 0, 0, 0,\n",
       "       0, 0, 0, 0, 0, 0, 0, 0, 0, 0, 0, 0, 0, 0, 0, 0, 1, 1, 1, 1, 1, 1,\n",
       "       1, 1, 1, 1, 1, 1, 1, 1, 1, 1, 1, 1, 1, 1, 1, 1, 1, 1, 1, 1, 1, 1,\n",
       "       1, 1, 1, 1, 1, 1, 1, 1, 1, 1, 1, 1, 1, 1, 1, 1, 1, 1, 1, 1, 1, 1])"
      ]
     },
     "execution_count": 19,
     "metadata": {},
     "output_type": "execute_result"
    }
   ],
   "source": [
    "y"
   ]
  },
  {
   "cell_type": "code",
   "execution_count": null,
   "metadata": {},
   "outputs": [
    {
     "data": {
      "text/plain": [
       "0.09090909090909091"
      ]
     },
     "execution_count": 14,
     "metadata": {},
     "output_type": "execute_result"
    }
   ],
   "source": [
    "(y == 1).sum() / y.shape[0] #9%"
   ]
  },
  {
   "cell_type": "code",
   "execution_count": null,
   "metadata": {},
   "outputs": [],
   "source": [
    "Xtrain, Xtest, Ytrain, Ytest = TTS(X,y,test_size=0.3,random_state=420)"
   ]
  },
  {
   "cell_type": "code",
   "execution_count": null,
   "metadata": {},
   "outputs": [],
   "source": [
    "#在sklearn下建模#\n",
    "\n",
    "clf = XGBC().fit(Xtrain,Ytrain)\n",
    "ypred = clf.predict(Xtest)"
   ]
  },
  {
   "cell_type": "code",
   "execution_count": null,
   "metadata": {},
   "outputs": [
    {
     "data": {
      "text/plain": [
       "array([0, 0, 0, 0, 1, 0, 0, 0, 0, 0, 0, 0, 0, 0, 0, 0, 0, 0, 0, 0, 0, 0,\n",
       "       0, 0, 0, 0, 0, 0, 0, 0, 0, 0, 0, 0, 0, 0, 0, 0, 0, 0, 0, 0, 0, 0,\n",
       "       0, 0, 0, 0, 0, 0, 0, 0, 0, 0, 0, 0, 0, 1, 0, 0, 0, 0, 0, 0, 0, 0,\n",
       "       0, 0, 0, 0, 0, 0, 0, 0, 1, 0, 0, 1, 0, 0, 0, 0, 0, 0, 1, 0, 0, 0,\n",
       "       1, 0, 0, 0, 0, 0, 1, 0, 1, 0, 0, 0, 0, 1, 0, 0, 0, 0, 0, 0, 0, 0,\n",
       "       0, 0, 0, 1, 0, 1, 0, 0, 0, 0, 0, 0, 0, 0, 0, 0, 0, 0, 0, 0, 0, 0,\n",
       "       0, 0, 0, 0, 1, 0, 0, 0, 0, 1, 0, 0, 0, 0, 0, 0, 0, 0, 1, 0, 0, 0,\n",
       "       0, 0, 0, 0, 0, 0, 0, 0, 1, 1, 1])"
      ]
     },
     "execution_count": 44,
     "metadata": {},
     "output_type": "execute_result"
    }
   ],
   "source": [
    "ypred"
   ]
  },
  {
   "cell_type": "code",
   "execution_count": null,
   "metadata": {},
   "outputs": [
    {
     "data": {
      "text/plain": [
       "0.9272727272727272"
      ]
     },
     "execution_count": 45,
     "metadata": {},
     "output_type": "execute_result"
    }
   ],
   "source": [
    "clf.score(Xtest,Ytest) #默认模型评估指标 - 准确率"
   ]
  },
  {
   "cell_type": "code",
   "execution_count": null,
   "metadata": {},
   "outputs": [
    {
     "data": {
      "text/plain": [
       "array([[  9,   4],\n",
       "       [  8, 144]], dtype=int64)"
      ]
     },
     "execution_count": 46,
     "metadata": {},
     "output_type": "execute_result"
    }
   ],
   "source": [
    "cm(Ytest,ypred,labels=[1,0]) #少数类写在前面"
   ]
  },
  {
   "cell_type": "code",
   "execution_count": null,
   "metadata": {},
   "outputs": [
    {
     "data": {
      "text/plain": [
       "0.6923076923076923"
      ]
     },
     "execution_count": 47,
     "metadata": {},
     "output_type": "execute_result"
    }
   ],
   "source": [
    "recall(Ytest,ypred)"
   ]
  },
  {
   "cell_type": "code",
   "execution_count": null,
   "metadata": {},
   "outputs": [
    {
     "data": {
      "text/plain": [
       "0.9671052631578947"
      ]
     },
     "execution_count": 48,
     "metadata": {},
     "output_type": "execute_result"
    }
   ],
   "source": [
    "auc(Ytest,clf.predict_proba(Xtest)[:,1])"
   ]
  },
  {
   "cell_type": "code",
   "execution_count": null,
   "metadata": {},
   "outputs": [
    {
     "data": {
      "text/plain": [
       "0.9696356275303644"
      ]
     },
     "execution_count": 49,
     "metadata": {},
     "output_type": "execute_result"
    }
   ],
   "source": [
    "#负/正样本比例\n",
    "clf_ = XGBC(scale_pos_weight=10).fit(Xtrain,Ytrain)\n",
    "ypred_ = clf_.predict(Xtest)\n",
    "clf_.score(Xtest,Ytest)\n",
    "\n",
    "cm(Ytest,ypred_,labels=[1,0])\n",
    "\n",
    "recall(Ytest,ypred_)\n",
    "\n",
    "auc(Ytest,clf_.predict_proba(Xtest)[:,1])"
   ]
  },
  {
   "cell_type": "code",
   "execution_count": null,
   "metadata": {},
   "outputs": [
    {
     "name": "stdout",
     "output_type": "stream",
     "text": [
      "1\n",
      "\tAccuracy:0.9272727272727272\n",
      "\tRecall:0.6923076923076923\n",
      "\tAUC:0.9671052631578947\n",
      "5\n",
      "\tAccuracy:0.9454545454545454\n",
      "\tRecall:0.9230769230769231\n",
      "\tAUC:0.9665991902834008\n",
      "10\n",
      "\tAccuracy:0.9515151515151515\n",
      "\tRecall:1.0\n",
      "\tAUC:0.9696356275303644\n",
      "20\n",
      "\tAccuracy:0.9515151515151515\n",
      "\tRecall:1.0\n",
      "\tAUC:0.9706477732793523\n",
      "30\n",
      "\tAccuracy:0.9515151515151515\n",
      "\tRecall:1.0\n",
      "\tAUC:0.9701417004048584\n"
     ]
    }
   ],
   "source": [
    "#随着样本权重逐渐增加，模型的recall,auc和准确率如何变化？\n",
    "for i in [1,5,10,20,30]:\n",
    "    clf_ = XGBC(scale_pos_weight=i).fit(Xtrain,Ytrain)\n",
    "    ypred_ = clf_.predict(Xtest)\n",
    "    print(i)\n",
    "    print(\"\\tAccuracy:{}\".format(clf_.score(Xtest,Ytest)))\n",
    "    print(\"\\tRecall:{}\".format(recall(Ytest,ypred_)))\n",
    "    print(\"\\tAUC:{}\".format(auc(Ytest,clf_.predict_proba(Xtest)[:,1])))"
   ]
  },
  {
   "cell_type": "code",
   "execution_count": null,
   "metadata": {},
   "outputs": [
    {
     "data": {
      "text/plain": [
       "0.9515151515151515"
      ]
     },
     "execution_count": 51,
     "metadata": {},
     "output_type": "execute_result"
    }
   ],
   "source": [
    "#负/正样本比例\n",
    "clf_ = XGBC(scale_pos_weight=20).fit(Xtrain,Ytrain)\n",
    "ypred_ = clf_.predict(Xtest)\n",
    "clf_.score(Xtest,Ytest)"
   ]
  },
  {
   "cell_type": "code",
   "execution_count": null,
   "metadata": {},
   "outputs": [
    {
     "data": {
      "text/plain": [
       "array([[ 13,   0],\n",
       "       [  8, 144]], dtype=int64)"
      ]
     },
     "execution_count": 52,
     "metadata": {},
     "output_type": "execute_result"
    }
   ],
   "source": [
    "cm(Ytest,ypred_,labels=[1,0])"
   ]
  },
  {
   "cell_type": "code",
   "execution_count": null,
   "metadata": {},
   "outputs": [
    {
     "data": {
      "text/plain": [
       "1.0"
      ]
     },
     "execution_count": 53,
     "metadata": {},
     "output_type": "execute_result"
    }
   ],
   "source": [
    "recall(Ytest,ypred_)"
   ]
  },
  {
   "cell_type": "code",
   "execution_count": null,
   "metadata": {},
   "outputs": [
    {
     "data": {
      "text/plain": [
       "0.9706477732793523"
      ]
     },
     "execution_count": 54,
     "metadata": {},
     "output_type": "execute_result"
    }
   ],
   "source": [
    "auc(Ytest,clf_.predict_proba(Xtest)[:,1])"
   ]
  },
  {
   "cell_type": "code",
   "execution_count": null,
   "metadata": {},
   "outputs": [],
   "source": [
    "dtrain = xgb.DMatrix(Xtrain,Ytrain)\n",
    "dtest = xgb.DMatrix(Xtest,Ytest)"
   ]
  },
  {
   "cell_type": "code",
   "execution_count": null,
   "metadata": {},
   "outputs": [],
   "source": [
    "#看看xgboost库自带的predict接口\n",
    "param = {'silent':True,'objective':'binary:logistic',\"eta\":0.1,\"scale_pos_weight\":1}\n",
    "num_round = 100"
   ]
  },
  {
   "cell_type": "code",
   "execution_count": null,
   "metadata": {},
   "outputs": [],
   "source": [
    "bst = xgb.train(param, dtrain, num_round)"
   ]
  },
  {
   "cell_type": "code",
   "execution_count": null,
   "metadata": {},
   "outputs": [],
   "source": [
    "preds = bst.predict(dtest)"
   ]
  },
  {
   "cell_type": "code",
   "execution_count": null,
   "metadata": {},
   "outputs": [
    {
     "data": {
      "text/plain": [
       "array([0.00110357, 0.00761518, 0.00110357, 0.00110357, 0.93531454,\n",
       "       0.00466839, 0.00110357, 0.00110357, 0.00110357, 0.00110357,\n",
       "       0.00110357, 0.00410493, 0.00454478, 0.00571528, 0.00751026,\n",
       "       0.00110357, 0.00110357, 0.00110357, 0.00110357, 0.00110357,\n",
       "       0.00110357, 0.00110357, 0.00110357, 0.00110357, 0.00110357,\n",
       "       0.00712637, 0.00110357, 0.00110357, 0.00110357, 0.00110357,\n",
       "       0.00110357, 0.00110357, 0.00110357, 0.00793251, 0.00466839,\n",
       "       0.00110357, 0.00339395, 0.00657186, 0.00110357, 0.00457053,\n",
       "       0.00571528, 0.0026763 , 0.00110357, 0.00110357, 0.00110357,\n",
       "       0.00884932, 0.00712637, 0.00110357, 0.00712637, 0.00466839,\n",
       "       0.00110357, 0.00110357, 0.00712637, 0.00110357, 0.00110357,\n",
       "       0.00110357, 0.00110357, 0.63748044, 0.00110357, 0.00793251,\n",
       "       0.00110357, 0.00451971, 0.00644181, 0.00110357, 0.00110357,\n",
       "       0.00110357, 0.00110357, 0.00751026, 0.00712637, 0.00110357,\n",
       "       0.00866458, 0.00110357, 0.00110357, 0.00110357, 0.91610426,\n",
       "       0.00110357, 0.00110357, 0.89246494, 0.0026763 , 0.00501714,\n",
       "       0.00761518, 0.00884932, 0.00339395, 0.00110357, 0.93531454,\n",
       "       0.00110357, 0.00110357, 0.00110357, 0.82530665, 0.00751026,\n",
       "       0.00110357, 0.35174078, 0.00110357, 0.00110357, 0.70393246,\n",
       "       0.00110357, 0.76804197, 0.00110357, 0.00110357, 0.00110357,\n",
       "       0.00110357, 0.96656513, 0.00110357, 0.00571528, 0.25400913,\n",
       "       0.00110357, 0.00110357, 0.00110357, 0.00110357, 0.00457053,\n",
       "       0.00110357, 0.00110357, 0.00110357, 0.89246494, 0.00110357,\n",
       "       0.9518535 , 0.0026763 , 0.00712637, 0.00110357, 0.00501714,\n",
       "       0.00110357, 0.00110357, 0.00571528, 0.00110357, 0.00110357,\n",
       "       0.00712637, 0.00110357, 0.00110357, 0.00712637, 0.00110357,\n",
       "       0.25136763, 0.00110357, 0.00110357, 0.00110357, 0.00110357,\n",
       "       0.00110357, 0.8904051 , 0.3876418 , 0.00110357, 0.00457053,\n",
       "       0.00657186, 0.9366597 , 0.00866458, 0.00110357, 0.00501714,\n",
       "       0.00501714, 0.00110357, 0.00110357, 0.00368543, 0.00501714,\n",
       "       0.9830577 , 0.00110357, 0.00644181, 0.00110357, 0.00571528,\n",
       "       0.00110357, 0.00110357, 0.00110357, 0.00110357, 0.00466839,\n",
       "       0.00110357, 0.00110357, 0.92388713, 0.90231985, 0.80084217],\n",
       "      dtype=float32)"
      ]
     },
     "execution_count": 49,
     "metadata": {},
     "output_type": "execute_result"
    }
   ],
   "source": [
    "#看看preds返回了什么？\n",
    "preds"
   ]
  },
  {
   "cell_type": "code",
   "execution_count": null,
   "metadata": {},
   "outputs": [],
   "source": [
    "#自己设定阈值\n",
    "ypred = preds.copy()"
   ]
  },
  {
   "cell_type": "code",
   "execution_count": null,
   "metadata": {},
   "outputs": [],
   "source": [
    "ypred[preds > 0.5] = 1"
   ]
  },
  {
   "cell_type": "code",
   "execution_count": null,
   "metadata": {},
   "outputs": [
    {
     "data": {
      "text/plain": [
       "array([0., 0., 0., 0., 1., 0., 0., 0., 0., 0., 0., 0., 0., 0., 0., 0., 0.,\n",
       "       0., 0., 0., 0., 0., 0., 0., 0., 0., 0., 0., 0., 0., 0., 0., 0., 0.,\n",
       "       0., 0., 0., 0., 0., 0., 0., 0., 0., 0., 0., 0., 0., 0., 0., 0., 0.,\n",
       "       0., 0., 0., 0., 0., 0., 1., 0., 0., 0., 0., 0., 0., 0., 0., 0., 0.,\n",
       "       0., 0., 0., 0., 0., 0., 1., 0., 0., 1., 0., 0., 0., 0., 0., 0., 1.,\n",
       "       0., 0., 0., 1., 0., 0., 0., 0., 0., 1., 0., 1., 0., 0., 0., 0., 1.,\n",
       "       0., 0., 0., 0., 0., 0., 0., 0., 0., 0., 0., 1., 0., 1., 0., 0., 0.,\n",
       "       0., 0., 0., 0., 0., 0., 0., 0., 0., 0., 0., 0., 0., 0., 0., 0., 0.,\n",
       "       1., 0., 0., 0., 0., 1., 0., 0., 0., 0., 0., 0., 0., 0., 1., 0., 0.,\n",
       "       0., 0., 0., 0., 0., 0., 0., 0., 0., 1., 1., 1.], dtype=float32)"
      ]
     },
     "execution_count": 31,
     "metadata": {},
     "output_type": "execute_result"
    }
   ],
   "source": [
    "ypred"
   ]
  },
  {
   "cell_type": "code",
   "execution_count": null,
   "metadata": {},
   "outputs": [],
   "source": [
    "ypred[ypred != 1] = 0"
   ]
  },
  {
   "cell_type": "code",
   "execution_count": null,
   "metadata": {},
   "outputs": [],
   "source": [
    "#写明参数\n",
    "scale_pos_weight = [1,5,10]\n",
    "names = [\"negative vs positive: 1\"\n",
    "         ,\"negative vs positive: 5\"\n",
    "         ,\"negative vs positive: 10\"]"
   ]
  },
  {
   "cell_type": "code",
   "execution_count": null,
   "metadata": {},
   "outputs": [
    {
     "data": {
      "text/plain": [
       "[('negative vs positive: 1', 1),\n",
       " ('negative vs positive: 5', 5),\n",
       " ('negative vs positive: 10', 10)]"
      ]
     },
     "execution_count": 34,
     "metadata": {},
     "output_type": "execute_result"
    }
   ],
   "source": [
    "[*zip(names,scale_pos_weight)]"
   ]
  },
  {
   "cell_type": "code",
   "execution_count": null,
   "metadata": {},
   "outputs": [
    {
     "name": "stdout",
     "output_type": "stream",
     "text": [
      "negative vs positive: 1\n",
      "\tAccuracy:0.9272727272727272\n",
      "\tRecall:0.6923076923076923\n",
      "\tAUC:0.9741902834008097\n",
      "negative vs positive: 5\n",
      "\tAccuracy:0.9393939393939394\n",
      "\tRecall:0.8461538461538461\n",
      "\tAUC:0.9635627530364372\n",
      "negative vs positive: 10\n",
      "\tAccuracy:0.9515151515151515\n",
      "\tRecall:1.0\n",
      "\tAUC:0.9665991902834008\n"
     ]
    }
   ],
   "source": [
    "#导入模型评估指标\n",
    "from sklearn.metrics import accuracy_score as accuracy, recall_score as recall, roc_auc_score as auc\n",
    "\n",
    "for name,i in zip(names,scale_pos_weight):\n",
    "    param = {'silent':True,'objective':'binary:logistic'\n",
    "            ,\"eta\":0.1,\"scale_pos_weight\":i}\n",
    "    num_round = 100\n",
    "    clf = xgb.train(param, dtrain, num_round)\n",
    "    preds = clf.predict(dtest)\n",
    "    ypred = preds.copy()\n",
    "    ypred[preds > 0.5] = 1\n",
    "    ypred[ypred != 1] = 0\n",
    "    print(name)\n",
    "    print(\"\\tAccuracy:{}\".format(accuracy(Ytest,ypred)))\n",
    "    print(\"\\tRecall:{}\".format(recall(Ytest,ypred)))\n",
    "    print(\"\\tAUC:{}\".format(auc(Ytest,preds)))"
   ]
  },
  {
   "cell_type": "code",
   "execution_count": null,
   "metadata": {},
   "outputs": [
    {
     "name": "stdout",
     "output_type": "stream",
     "text": [
      "negative vs positive: 1,thresholds:0.3\n",
      "\tAccuracy:0.9393939393939394\n",
      "\tRecall:0.8461538461538461\n",
      "\tAUC:0.9741902834008097\n",
      "negative vs positive: 1,thresholds:0.5\n",
      "\tAccuracy:0.9272727272727272\n",
      "\tRecall:0.6923076923076923\n",
      "\tAUC:0.9741902834008097\n",
      "negative vs positive: 1,thresholds:0.7\n",
      "\tAccuracy:0.9212121212121213\n",
      "\tRecall:0.6153846153846154\n",
      "\tAUC:0.9741902834008097\n",
      "negative vs positive: 1,thresholds:0.9\n",
      "\tAccuracy:0.9515151515151515\n",
      "\tRecall:0.5384615384615384\n",
      "\tAUC:0.9741902834008097\n",
      "negative vs positive: 5,thresholds:0.3\n",
      "\tAccuracy:0.9515151515151515\n",
      "\tRecall:1.0\n",
      "\tAUC:0.9635627530364372\n",
      "negative vs positive: 5,thresholds:0.5\n",
      "\tAccuracy:0.9393939393939394\n",
      "\tRecall:0.8461538461538461\n",
      "\tAUC:0.9635627530364372\n",
      "negative vs positive: 5,thresholds:0.7\n",
      "\tAccuracy:0.9272727272727272\n",
      "\tRecall:0.6923076923076923\n",
      "\tAUC:0.9635627530364372\n",
      "negative vs positive: 5,thresholds:0.9\n",
      "\tAccuracy:0.9212121212121213\n",
      "\tRecall:0.6153846153846154\n",
      "\tAUC:0.9635627530364372\n",
      "negative vs positive: 10,thresholds:0.3\n",
      "\tAccuracy:0.9515151515151515\n",
      "\tRecall:1.0\n",
      "\tAUC:0.9665991902834008\n",
      "negative vs positive: 10,thresholds:0.5\n",
      "\tAccuracy:0.9515151515151515\n",
      "\tRecall:1.0\n",
      "\tAUC:0.9665991902834008\n",
      "negative vs positive: 10,thresholds:0.7\n",
      "\tAccuracy:0.9393939393939394\n",
      "\tRecall:0.8461538461538461\n",
      "\tAUC:0.9665991902834008\n",
      "negative vs positive: 10,thresholds:0.9\n",
      "\tAccuracy:0.9212121212121213\n",
      "\tRecall:0.6153846153846154\n",
      "\tAUC:0.9665991902834008\n"
     ]
    }
   ],
   "source": [
    "#当然我们也可以尝试不同的阈值\n",
    "for name,i in zip(names,scale_pos_weight):\n",
    "    for thres in [0.3,0.5,0.7,0.9]:\n",
    "        param= {'silent':True,'objective':'binary:logistic'\n",
    "                ,\"eta\":0.1,\"scale_pos_weight\":i}\n",
    "        clf = xgb.train(param, dtrain, num_round)\n",
    "        preds = clf.predict(dtest)\n",
    "        ypred = preds.copy()\n",
    "        ypred[preds > thres] = 1\n",
    "        ypred[ypred != 1] = 0\n",
    "        print(\"{},thresholds:{}\".format(name,thres))\n",
    "        print(\"\\tAccuracy:{}\".format(accuracy(Ytest,ypred)))\n",
    "        print(\"\\tRecall:{}\".format(recall(Ytest,ypred)))\n",
    "        print(\"\\tAUC:{}\".format(auc(Ytest,preds)))"
   ]
  },
  {
   "cell_type": "code",
   "execution_count": null,
   "metadata": {},
   "outputs": [],
   "source": []
  }
 ],
 "metadata": {
  "kernelspec": {
   "display_name": "Python 3",
   "language": "python",
   "name": "python3"
  },
  "language_info": {
   "codemirror_mode": {
    "name": "ipython",
    "version": 3
   },
   "file_extension": ".py",
   "mimetype": "text/x-python",
   "name": "python",
   "nbconvert_exporter": "python",
   "pygments_lexer": "ipython3",
   "version": "3.6.13"
  }
 },
 "nbformat": 4,
 "nbformat_minor": 2
}
