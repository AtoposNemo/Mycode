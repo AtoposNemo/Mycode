{
 "cells": [
  {
   "cell_type": "code",
   "execution_count": 2,
   "metadata": {},
   "outputs": [
    {
     "name": "stderr",
     "output_type": "stream",
     "text": [
      "d:\\anaconda\\envs\\simcse\\lib\\site-packages\\tqdm\\auto.py:22: TqdmWarning: IProgress not found. Please update jupyter and ipywidgets. See https://ipywidgets.readthedocs.io/en/stable/user_install.html\n",
      "  from .autonotebook import tqdm as notebook_tqdm\n"
     ]
    }
   ],
   "source": [
    "import pandas as pd\n",
    "from simcse import SimCSE\n",
    "\n",
    "model = SimCSE(\"princeton-nlp/sup-simcse-roberta-large\")\n",
    "\n",
    "txt = pd.read_csv(r'E:\\vspy\\论文相关git\\论文数据集\\论文初步方案\\最终数据\\txt.csv')\n"
   ]
  },
  {
   "cell_type": "code",
   "execution_count": 3,
   "metadata": {},
   "outputs": [],
   "source": [
    "#!/usr/bin/python \n",
    "# -*- coding: utf-8 -*-\n",
    "neo = pd.read_csv(r'E:\\vspy\\论文相关git\\论文数据集\\论文初步方案\\最终数据\\NEO.csv',engine = 'python')"
   ]
  },
  {
   "cell_type": "code",
   "execution_count": 4,
   "metadata": {},
   "outputs": [
    {
     "data": {
      "text/html": [
       "<div>\n",
       "<style scoped>\n",
       "    .dataframe tbody tr th:only-of-type {\n",
       "        vertical-align: middle;\n",
       "    }\n",
       "\n",
       "    .dataframe tbody tr th {\n",
       "        vertical-align: top;\n",
       "    }\n",
       "\n",
       "    .dataframe thead th {\n",
       "        text-align: right;\n",
       "    }\n",
       "</style>\n",
       "<table border=\"1\" class=\"dataframe\">\n",
       "  <thead>\n",
       "    <tr style=\"text-align: right;\">\n",
       "      <th></th>\n",
       "      <th>author</th>\n",
       "      <th>body</th>\n",
       "    </tr>\n",
       "  </thead>\n",
       "  <tbody>\n",
       "    <tr>\n",
       "      <th>0</th>\n",
       "      <td>MetricExpansion</td>\n",
       "      <td>Those stats come from the test. [Echoing the c...</td>\n",
       "    </tr>\n",
       "    <tr>\n",
       "      <th>1</th>\n",
       "      <td>MetricExpansion</td>\n",
       "      <td>That's great to hear! I hope you know that, de...</td>\n",
       "    </tr>\n",
       "    <tr>\n",
       "      <th>2</th>\n",
       "      <td>MetricExpansion</td>\n",
       "      <td>I can totally agree on reticence! With respect...</td>\n",
       "    </tr>\n",
       "    <tr>\n",
       "      <th>3</th>\n",
       "      <td>MetricExpansion</td>\n",
       "      <td>I took it several times. I'm typed as TYPE_MEN...</td>\n",
       "    </tr>\n",
       "    <tr>\n",
       "      <th>4</th>\n",
       "      <td>MetricExpansion</td>\n",
       "      <td>Gawd it's like we don't even need drugs to be ...</td>\n",
       "    </tr>\n",
       "  </tbody>\n",
       "</table>\n",
       "</div>"
      ],
      "text/plain": [
       "            author                                               body\n",
       "0  MetricExpansion  Those stats come from the test. [Echoing the c...\n",
       "1  MetricExpansion  That's great to hear! I hope you know that, de...\n",
       "2  MetricExpansion  I can totally agree on reticence! With respect...\n",
       "3  MetricExpansion  I took it several times. I'm typed as TYPE_MEN...\n",
       "4  MetricExpansion  Gawd it's like we don't even need drugs to be ..."
      ]
     },
     "execution_count": 4,
     "metadata": {},
     "output_type": "execute_result"
    }
   ],
   "source": [
    "txt.head()\n"
   ]
  },
  {
   "cell_type": "code",
   "execution_count": 5,
   "metadata": {},
   "outputs": [],
   "source": [
    "neo = list(neo)\n",
    "sentences_b = neo"
   ]
  },
  {
   "cell_type": "code",
   "execution_count": 6,
   "metadata": {},
   "outputs": [],
   "source": [
    "sentences_a = list(txt['body'])"
   ]
  },
  {
   "cell_type": "code",
   "execution_count": 7,
   "metadata": {},
   "outputs": [
    {
     "name": "stderr",
     "output_type": "stream",
     "text": [
      " 12%|█▏        | 3378/29268 [23:58:02<221:46:42, 30.84s/it] "
     ]
    }
   ],
   "source": [
    "similarities = model.similarity(sentences_a, sentences_b)\n"
   ]
  },
  {
   "cell_type": "code",
   "execution_count": null,
   "metadata": {},
   "outputs": [],
   "source": [
    "xs = pd.concat([txt['author'],similarities],axis = 1)\n",
    "xs = pd.DataFrame(xs)\n",
    "xs.to_csv(r'E:\\vspy\\论文相关git\\论文数据集\\论文初步方案\\最终数据\\相似度.csv',index = False)"
   ]
  },
  {
   "cell_type": "code",
   "execution_count": null,
   "metadata": {},
   "outputs": [],
   "source": []
  }
 ],
 "metadata": {
  "interpreter": {
   "hash": "50ac659e31f54ce4c555d348a644f839b5e7aedfe10ebce52fe37625ae12ae08"
  },
  "kernelspec": {
   "display_name": "Python 3.8.13 ('simcse')",
   "language": "python",
   "name": "python3"
  },
  "language_info": {
   "codemirror_mode": {
    "name": "ipython",
    "version": 3
   },
   "file_extension": ".py",
   "mimetype": "text/x-python",
   "name": "python",
   "nbconvert_exporter": "python",
   "pygments_lexer": "ipython3",
   "version": "3.8.13"
  },
  "orig_nbformat": 4
 },
 "nbformat": 4,
 "nbformat_minor": 2
}
