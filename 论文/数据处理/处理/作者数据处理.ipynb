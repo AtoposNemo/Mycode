{
 "cells": [
  {
   "cell_type": "code",
   "execution_count": 10,
   "metadata": {},
   "outputs": [],
   "source": [
    "import pandas as pd\n",
    "author_all =  pd.read_csv(r'E:\\vspy\\论文相关git\\论文数据集\\论文初步方案\\数据集\\作者信息\\author_profiles.csv')\n",
    "author_b = pd.read_csv(r'E:\\vspy\\论文相关git\\论文数据集\\论文初步方案\\数据集\\作者信息\\B+.csv')\n"
   ]
  },
  {
   "cell_type": "code",
   "execution_count": 11,
   "metadata": {},
   "outputs": [
    {
     "data": {
      "text/plain": [
       "0         NaN\n",
       "1         0.0\n",
       "2         NaN\n",
       "3         NaN\n",
       "4         NaN\n",
       "         ... \n",
       "10290     0.0\n",
       "10291    21.0\n",
       "10292    84.0\n",
       "10293     6.0\n",
       "10294    13.0\n",
       "Name: agreeableness, Length: 10295, dtype: float64"
      ]
     },
     "execution_count": 11,
     "metadata": {},
     "output_type": "execute_result"
    }
   ],
   "source": [
    "author_all['agreeableness']"
   ]
  },
  {
   "cell_type": "code",
   "execution_count": 12,
   "metadata": {},
   "outputs": [],
   "source": [
    "author = author_all[author_all['agreeableness'].notnull()]"
   ]
  },
  {
   "cell_type": "code",
   "execution_count": 14,
   "metadata": {},
   "outputs": [
    {
     "name": "stdout",
     "output_type": "stream",
     "text": [
      "<class 'pandas.core.frame.DataFrame'>\n",
      "Int64Index: 1606 entries, 1 to 10294\n",
      "Data columns (total 38 columns):\n",
      "author                       1606 non-null object\n",
      "mbti                         402 non-null object\n",
      "introverted                  396 non-null float64\n",
      "intuitive                    402 non-null float64\n",
      "thinking                     399 non-null float64\n",
      "perceiving                   392 non-null float64\n",
      "gender                       624 non-null object\n",
      "age                          651 non-null float64\n",
      "enneagram                    64 non-null object\n",
      "country                      238 non-null object\n",
      "state                        82 non-null object\n",
      "type                         1606 non-null object\n",
      "agreeableness                1606 non-null float64\n",
      "openness                     1583 non-null float64\n",
      "conscientiousness            1600 non-null float64\n",
      "extraversion                 1603 non-null float64\n",
      "neuroticism                  1599 non-null float64\n",
      "is_description               150 non-null float64\n",
      "is_percentile                368 non-null object\n",
      "is_score                     1094 non-null float64\n",
      "contains_details             1382 non-null float64\n",
      "num_comments                 1606 non-null int64\n",
      "en_comments                  1606 non-null int64\n",
      "en_comments_percentage       1606 non-null float64\n",
      "region                       77 non-null object\n",
      "continent                    238 non-null object\n",
      "country_code                 238 non-null object\n",
      "enneagram_type               64 non-null float64\n",
      "enneagram_wing               63 non-null float64\n",
      "is_native_english_country    238 non-null float64\n",
      "predicted_test               1606 non-null float64\n",
      "test_name                    1606 non-null object\n",
      "test_scale                   1606 non-null object\n",
      "16pers_ta                    8 non-null object\n",
      "test_result_type             1606 non-null object\n",
      "is_female                    608 non-null float64\n",
      "is_female_pred               1606 non-null int64\n",
      "is_female_proba              1606 non-null float64\n",
      "dtypes: float64(20), int64(3), object(15)\n",
      "memory usage: 489.3+ KB\n"
     ]
    }
   ],
   "source": [
    "author.info()"
   ]
  },
  {
   "cell_type": "code",
   "execution_count": null,
   "metadata": {},
   "outputs": [],
   "source": [
    "author.to_csv('b+信息.csv',index = False)"
   ]
  },
  {
   "cell_type": "code",
   "execution_count": null,
   "metadata": {},
   "outputs": [],
   "source": []
  }
 ],
 "metadata": {
  "interpreter": {
   "hash": "8cd92254f7f669fd7876094a4588e8c648099d0b6a1596d2f8036b4a8e43a732"
  },
  "kernelspec": {
   "display_name": "Python 3.6.13 64-bit ('py36': conda)",
   "language": "python",
   "name": "python3"
  },
  "language_info": {
   "codemirror_mode": {
    "name": "ipython",
    "version": 3
   },
   "file_extension": ".py",
   "mimetype": "text/x-python",
   "name": "python",
   "nbconvert_exporter": "python",
   "pygments_lexer": "ipython3",
   "version": "3.6.13"
  },
  "orig_nbformat": 4
 },
 "nbformat": 4,
 "nbformat_minor": 2
}
