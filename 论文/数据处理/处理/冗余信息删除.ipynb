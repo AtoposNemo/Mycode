{
 "cells": [
  {
   "cell_type": "code",
   "execution_count": 2,
   "metadata": {},
   "outputs": [
    {
     "name": "stdout",
     "output_type": "stream",
     "text": [
      "<class 'pandas.core.frame.DataFrame'>\n",
      "RangeIndex: 1922719 entries, 0 to 1922718\n",
      "Data columns (total 4 columns):\n",
      " #   Column                Non-Null Count    Dtype  \n",
      "---  ------                --------------    -----  \n",
      " 0   author                1922719 non-null  object \n",
      " 1   body                  1922719 non-null  object \n",
      " 2   word_count_quoteless  1922718 non-null  float64\n",
      " 3   16                    1875001 non-null  object \n",
      "dtypes: float64(1), object(3)\n",
      "memory usage: 58.7+ MB\n"
     ]
    }
   ],
   "source": [
    "import pandas as pd\n",
    "\n",
    "df = pd.read_csv(r'E:\\vspy\\论文相关git\\论文数据集\\论文初步方案\\数据处理\\筛选BF.csv',engine='python')\n",
    "df1 = pd.concat([df.iloc[:,0:3],df.iloc[:,15:17]],axis=1)\n",
    "df1 = df1.drop(['1'],axis=1)\n",
    "df1.columns= ['author','body','word_count_quoteless','16']\n",
    "df1.info(verbose=1,null_counts=True)\n"
   ]
  },
  {
   "cell_type": "code",
   "execution_count": 3,
   "metadata": {},
   "outputs": [
    {
     "name": "stdout",
     "output_type": "stream",
     "text": [
      "<class 'pandas.core.frame.DataFrame'>\n",
      "Int64Index: 1875001 entries, 0 to 1922717\n",
      "Data columns (total 4 columns):\n",
      " #   Column                Non-Null Count    Dtype  \n",
      "---  ------                --------------    -----  \n",
      " 0   author                1875001 non-null  object \n",
      " 1   body                  1875001 non-null  object \n",
      " 2   word_count_quoteless  1875001 non-null  float64\n",
      " 3   16                    1875001 non-null  object \n",
      "dtypes: float64(1), object(3)\n",
      "memory usage: 71.5+ MB\n"
     ]
    }
   ],
   "source": [
    "df1 = df1.dropna()\n",
    "df1.info(verbose=1,null_counts=True)\n"
   ]
  },
  {
   "cell_type": "code",
   "execution_count": 4,
   "metadata": {},
   "outputs": [],
   "source": [
    "df1=df1.drop(['16'],axis=1)\n",
    "df1.columns=['author','body','word_count']\n",
    "df1=df1.drop(['word_count'],axis=1)\n",
    "df1.to_csv('筛选后.csv',index=False)\n"
   ]
  },
  {
   "cell_type": "code",
   "execution_count": null,
   "metadata": {},
   "outputs": [],
   "source": []
  }
 ],
 "metadata": {
  "interpreter": {
   "hash": "8cd92254f7f669fd7876094a4588e8c648099d0b6a1596d2f8036b4a8e43a732"
  },
  "kernelspec": {
   "display_name": "Python 3.6.13 64-bit ('py36': conda)",
   "language": "python",
   "name": "python3"
  },
  "language_info": {
   "codemirror_mode": {
    "name": "ipython",
    "version": 3
   },
   "file_extension": ".py",
   "mimetype": "text/x-python",
   "name": "python",
   "nbconvert_exporter": "python",
   "pygments_lexer": "ipython3",
   "version": "3.6.13"
  },
  "orig_nbformat": 4
 },
 "nbformat": 4,
 "nbformat_minor": 2
}
